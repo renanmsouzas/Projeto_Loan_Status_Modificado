{
 "cells": [
  {
   "cell_type": "code",
   "execution_count": 1,
   "id": "76c57c18",
   "metadata": {},
   "outputs": [],
   "source": [
    "# manipulação de dados\n",
    "import pandas as pd\n",
    "import sidetable as stb\n",
    "import numpy as np\n",
    "from ydata_profiling import ProfileReport\n",
    "\n",
    "# análise gráfica\n",
    "import matplotlib.pyplot as plt\n",
    "import seaborn as sns\n",
    "\n",
    "# modelagem\n",
    "from sklearn.preprocessing import OneHotEncoder, StandardScaler\n",
    "from sklearn.model_selection import train_test_split, GridSearchCV, cross_val_score, KFold, cross_val_predict\n",
    "from sklearn import tree\n",
    "import category_encoders as ce\n",
    "from sklearn.tree import DecisionTreeClassifier\n",
    "from sklearn.ensemble import RandomForestClassifier\n",
    "from sklearn.linear_model import LogisticRegression\n",
    "from sklearn.neighbors import KNeighborsClassifier\n",
    "from sklearn.neural_network import MLPClassifier\n",
    "from sklearn.svm import SVC\n",
    "from sklearn.decomposition import PCA, KernelPCA\n",
    "\n",
    "# métricas\n",
    "from sklearn.metrics import accuracy_score, f1_score, confusion_matrix, classification_report\n",
    "#Settings\n",
    "# pd.set_option(\"display.precision\", 2)\n",
    "# pd.set_eng_float_format(accuracy=2, use_eng_prefix=True)\n",
    "import warnings\n",
    "warnings.filterwarnings(\"ignore\")"
   ]
  },
  {
   "cell_type": "code",
   "execution_count": 2,
   "id": "091e1270",
   "metadata": {},
   "outputs": [],
   "source": [
    "df = pd.read_csv('credit_risk_dataset.csv')"
   ]
  },
  {
   "cell_type": "markdown",
   "id": "940bc372",
   "metadata": {},
   "source": [
    "### Entendendo as features\n",
    "- person_age = idade\n",
    "- person_income = rendimento anual\n",
    "- person_home_ownership = tem casa própria? mora de aluguel?\n",
    "- person_emp_length = quatidade de tempo de empresa (anos)\n",
    "- loan_intent = motivo do empréstimo\n",
    "- loan_grade = grau do empréstimo\n",
    "- loan_amnt = valor do empréstimo\n",
    "- loan_int_rate = taxa interna de empréstimo\n",
    "- loan_status = status do empréstimo\n",
    "- loan_percent_income = taxa do empréstimo\n",
    "- cb_person_default_on_file = histórico padrão\n",
    "- cb_preson_cred_hist_length = tamanho do histórico de empréstimo da pessoa (anos)"
   ]
  },
  {
   "cell_type": "code",
   "execution_count": 3,
   "id": "0bb501e4",
   "metadata": {},
   "outputs": [
    {
     "data": {
      "text/html": [
       "<div>\n",
       "<style scoped>\n",
       "    .dataframe tbody tr th:only-of-type {\n",
       "        vertical-align: middle;\n",
       "    }\n",
       "\n",
       "    .dataframe tbody tr th {\n",
       "        vertical-align: top;\n",
       "    }\n",
       "\n",
       "    .dataframe thead th {\n",
       "        text-align: right;\n",
       "    }\n",
       "</style>\n",
       "<table border=\"1\" class=\"dataframe\">\n",
       "  <thead>\n",
       "    <tr style=\"text-align: right;\">\n",
       "      <th></th>\n",
       "      <th>person_age</th>\n",
       "      <th>person_income</th>\n",
       "      <th>person_home_ownership</th>\n",
       "      <th>person_emp_length</th>\n",
       "      <th>loan_intent</th>\n",
       "      <th>loan_grade</th>\n",
       "      <th>loan_amnt</th>\n",
       "      <th>loan_int_rate</th>\n",
       "      <th>loan_status</th>\n",
       "      <th>loan_percent_income</th>\n",
       "      <th>cb_person_default_on_file</th>\n",
       "      <th>cb_person_cred_hist_length</th>\n",
       "    </tr>\n",
       "  </thead>\n",
       "  <tbody>\n",
       "    <tr>\n",
       "      <th>0</th>\n",
       "      <td>22</td>\n",
       "      <td>59000</td>\n",
       "      <td>RENT</td>\n",
       "      <td>123.0</td>\n",
       "      <td>PERSONAL</td>\n",
       "      <td>D</td>\n",
       "      <td>35000</td>\n",
       "      <td>16.02</td>\n",
       "      <td>1</td>\n",
       "      <td>0.59</td>\n",
       "      <td>Y</td>\n",
       "      <td>3</td>\n",
       "    </tr>\n",
       "    <tr>\n",
       "      <th>1</th>\n",
       "      <td>21</td>\n",
       "      <td>9600</td>\n",
       "      <td>OWN</td>\n",
       "      <td>5.0</td>\n",
       "      <td>EDUCATION</td>\n",
       "      <td>B</td>\n",
       "      <td>1000</td>\n",
       "      <td>11.14</td>\n",
       "      <td>0</td>\n",
       "      <td>0.10</td>\n",
       "      <td>N</td>\n",
       "      <td>2</td>\n",
       "    </tr>\n",
       "    <tr>\n",
       "      <th>2</th>\n",
       "      <td>25</td>\n",
       "      <td>9600</td>\n",
       "      <td>MORTGAGE</td>\n",
       "      <td>1.0</td>\n",
       "      <td>MEDICAL</td>\n",
       "      <td>C</td>\n",
       "      <td>5500</td>\n",
       "      <td>12.87</td>\n",
       "      <td>1</td>\n",
       "      <td>0.57</td>\n",
       "      <td>N</td>\n",
       "      <td>3</td>\n",
       "    </tr>\n",
       "    <tr>\n",
       "      <th>3</th>\n",
       "      <td>23</td>\n",
       "      <td>65500</td>\n",
       "      <td>RENT</td>\n",
       "      <td>4.0</td>\n",
       "      <td>MEDICAL</td>\n",
       "      <td>C</td>\n",
       "      <td>35000</td>\n",
       "      <td>15.23</td>\n",
       "      <td>1</td>\n",
       "      <td>0.53</td>\n",
       "      <td>N</td>\n",
       "      <td>2</td>\n",
       "    </tr>\n",
       "    <tr>\n",
       "      <th>4</th>\n",
       "      <td>24</td>\n",
       "      <td>54400</td>\n",
       "      <td>RENT</td>\n",
       "      <td>8.0</td>\n",
       "      <td>MEDICAL</td>\n",
       "      <td>C</td>\n",
       "      <td>35000</td>\n",
       "      <td>14.27</td>\n",
       "      <td>1</td>\n",
       "      <td>0.55</td>\n",
       "      <td>Y</td>\n",
       "      <td>4</td>\n",
       "    </tr>\n",
       "  </tbody>\n",
       "</table>\n",
       "</div>"
      ],
      "text/plain": [
       "   person_age  person_income person_home_ownership  person_emp_length  \\\n",
       "0          22          59000                  RENT              123.0   \n",
       "1          21           9600                   OWN                5.0   \n",
       "2          25           9600              MORTGAGE                1.0   \n",
       "3          23          65500                  RENT                4.0   \n",
       "4          24          54400                  RENT                8.0   \n",
       "\n",
       "  loan_intent loan_grade  loan_amnt  loan_int_rate  loan_status  \\\n",
       "0    PERSONAL          D      35000          16.02            1   \n",
       "1   EDUCATION          B       1000          11.14            0   \n",
       "2     MEDICAL          C       5500          12.87            1   \n",
       "3     MEDICAL          C      35000          15.23            1   \n",
       "4     MEDICAL          C      35000          14.27            1   \n",
       "\n",
       "   loan_percent_income cb_person_default_on_file  cb_person_cred_hist_length  \n",
       "0                 0.59                         Y                           3  \n",
       "1                 0.10                         N                           2  \n",
       "2                 0.57                         N                           3  \n",
       "3                 0.53                         N                           2  \n",
       "4                 0.55                         Y                           4  "
      ]
     },
     "execution_count": 3,
     "metadata": {},
     "output_type": "execute_result"
    }
   ],
   "source": [
    "df.head()"
   ]
  },
  {
   "cell_type": "markdown",
   "id": "31778a27",
   "metadata": {},
   "source": [
    "### Criando um relatório inicial com Pandas Profiling"
   ]
  },
  {
   "cell_type": "code",
   "execution_count": 4,
   "id": "c8966676",
   "metadata": {
    "scrolled": true
   },
   "outputs": [],
   "source": [
    "# profile = ProfileReport(df, title='Análise Empréstimo')\n",
    "# profile.to_file('Análise Empréstimo.html')"
   ]
  },
  {
   "cell_type": "markdown",
   "id": "44589fcf",
   "metadata": {},
   "source": [
    "### Verificando se há valores missing e se o tipo de dado da coluna está correto"
   ]
  },
  {
   "cell_type": "code",
   "execution_count": 5,
   "id": "5482ad07",
   "metadata": {
    "scrolled": true
   },
   "outputs": [
    {
     "name": "stdout",
     "output_type": "stream",
     "text": [
      "<class 'pandas.core.frame.DataFrame'>\n",
      "RangeIndex: 32581 entries, 0 to 32580\n",
      "Data columns (total 12 columns):\n",
      " #   Column                      Non-Null Count  Dtype  \n",
      "---  ------                      --------------  -----  \n",
      " 0   person_age                  32581 non-null  int64  \n",
      " 1   person_income               32581 non-null  int64  \n",
      " 2   person_home_ownership       32581 non-null  object \n",
      " 3   person_emp_length           31686 non-null  float64\n",
      " 4   loan_intent                 32581 non-null  object \n",
      " 5   loan_grade                  32581 non-null  object \n",
      " 6   loan_amnt                   32581 non-null  int64  \n",
      " 7   loan_int_rate               29465 non-null  float64\n",
      " 8   loan_status                 32581 non-null  int64  \n",
      " 9   loan_percent_income         32581 non-null  float64\n",
      " 10  cb_person_default_on_file   32581 non-null  object \n",
      " 11  cb_person_cred_hist_length  32581 non-null  int64  \n",
      "dtypes: float64(3), int64(5), object(4)\n",
      "memory usage: 3.0+ MB\n"
     ]
    }
   ],
   "source": [
    "df.info()"
   ]
  },
  {
   "cell_type": "code",
   "execution_count": 6,
   "id": "45dbb076",
   "metadata": {},
   "outputs": [
    {
     "data": {
      "text/html": [
       "<style type=\"text/css\">\n",
       "</style>\n",
       "<table id=\"T_db492\">\n",
       "  <thead>\n",
       "    <tr>\n",
       "      <th class=\"blank level0\" >&nbsp;</th>\n",
       "      <th id=\"T_db492_level0_col0\" class=\"col_heading level0 col0\" >missing</th>\n",
       "      <th id=\"T_db492_level0_col1\" class=\"col_heading level0 col1\" >total</th>\n",
       "      <th id=\"T_db492_level0_col2\" class=\"col_heading level0 col2\" >percent</th>\n",
       "    </tr>\n",
       "  </thead>\n",
       "  <tbody>\n",
       "    <tr>\n",
       "      <th id=\"T_db492_level0_row0\" class=\"row_heading level0 row0\" >loan_int_rate</th>\n",
       "      <td id=\"T_db492_row0_col0\" class=\"data row0 col0\" >3,116</td>\n",
       "      <td id=\"T_db492_row0_col1\" class=\"data row0 col1\" >32,581</td>\n",
       "      <td id=\"T_db492_row0_col2\" class=\"data row0 col2\" >9.56%</td>\n",
       "    </tr>\n",
       "    <tr>\n",
       "      <th id=\"T_db492_level0_row1\" class=\"row_heading level0 row1\" >person_emp_length</th>\n",
       "      <td id=\"T_db492_row1_col0\" class=\"data row1 col0\" >895</td>\n",
       "      <td id=\"T_db492_row1_col1\" class=\"data row1 col1\" >32,581</td>\n",
       "      <td id=\"T_db492_row1_col2\" class=\"data row1 col2\" >2.75%</td>\n",
       "    </tr>\n",
       "    <tr>\n",
       "      <th id=\"T_db492_level0_row2\" class=\"row_heading level0 row2\" >person_age</th>\n",
       "      <td id=\"T_db492_row2_col0\" class=\"data row2 col0\" >0</td>\n",
       "      <td id=\"T_db492_row2_col1\" class=\"data row2 col1\" >32,581</td>\n",
       "      <td id=\"T_db492_row2_col2\" class=\"data row2 col2\" >0.00%</td>\n",
       "    </tr>\n",
       "    <tr>\n",
       "      <th id=\"T_db492_level0_row3\" class=\"row_heading level0 row3\" >person_income</th>\n",
       "      <td id=\"T_db492_row3_col0\" class=\"data row3 col0\" >0</td>\n",
       "      <td id=\"T_db492_row3_col1\" class=\"data row3 col1\" >32,581</td>\n",
       "      <td id=\"T_db492_row3_col2\" class=\"data row3 col2\" >0.00%</td>\n",
       "    </tr>\n",
       "    <tr>\n",
       "      <th id=\"T_db492_level0_row4\" class=\"row_heading level0 row4\" >person_home_ownership</th>\n",
       "      <td id=\"T_db492_row4_col0\" class=\"data row4 col0\" >0</td>\n",
       "      <td id=\"T_db492_row4_col1\" class=\"data row4 col1\" >32,581</td>\n",
       "      <td id=\"T_db492_row4_col2\" class=\"data row4 col2\" >0.00%</td>\n",
       "    </tr>\n",
       "    <tr>\n",
       "      <th id=\"T_db492_level0_row5\" class=\"row_heading level0 row5\" >loan_intent</th>\n",
       "      <td id=\"T_db492_row5_col0\" class=\"data row5 col0\" >0</td>\n",
       "      <td id=\"T_db492_row5_col1\" class=\"data row5 col1\" >32,581</td>\n",
       "      <td id=\"T_db492_row5_col2\" class=\"data row5 col2\" >0.00%</td>\n",
       "    </tr>\n",
       "    <tr>\n",
       "      <th id=\"T_db492_level0_row6\" class=\"row_heading level0 row6\" >loan_grade</th>\n",
       "      <td id=\"T_db492_row6_col0\" class=\"data row6 col0\" >0</td>\n",
       "      <td id=\"T_db492_row6_col1\" class=\"data row6 col1\" >32,581</td>\n",
       "      <td id=\"T_db492_row6_col2\" class=\"data row6 col2\" >0.00%</td>\n",
       "    </tr>\n",
       "    <tr>\n",
       "      <th id=\"T_db492_level0_row7\" class=\"row_heading level0 row7\" >loan_amnt</th>\n",
       "      <td id=\"T_db492_row7_col0\" class=\"data row7 col0\" >0</td>\n",
       "      <td id=\"T_db492_row7_col1\" class=\"data row7 col1\" >32,581</td>\n",
       "      <td id=\"T_db492_row7_col2\" class=\"data row7 col2\" >0.00%</td>\n",
       "    </tr>\n",
       "    <tr>\n",
       "      <th id=\"T_db492_level0_row8\" class=\"row_heading level0 row8\" >loan_status</th>\n",
       "      <td id=\"T_db492_row8_col0\" class=\"data row8 col0\" >0</td>\n",
       "      <td id=\"T_db492_row8_col1\" class=\"data row8 col1\" >32,581</td>\n",
       "      <td id=\"T_db492_row8_col2\" class=\"data row8 col2\" >0.00%</td>\n",
       "    </tr>\n",
       "    <tr>\n",
       "      <th id=\"T_db492_level0_row9\" class=\"row_heading level0 row9\" >loan_percent_income</th>\n",
       "      <td id=\"T_db492_row9_col0\" class=\"data row9 col0\" >0</td>\n",
       "      <td id=\"T_db492_row9_col1\" class=\"data row9 col1\" >32,581</td>\n",
       "      <td id=\"T_db492_row9_col2\" class=\"data row9 col2\" >0.00%</td>\n",
       "    </tr>\n",
       "    <tr>\n",
       "      <th id=\"T_db492_level0_row10\" class=\"row_heading level0 row10\" >cb_person_default_on_file</th>\n",
       "      <td id=\"T_db492_row10_col0\" class=\"data row10 col0\" >0</td>\n",
       "      <td id=\"T_db492_row10_col1\" class=\"data row10 col1\" >32,581</td>\n",
       "      <td id=\"T_db492_row10_col2\" class=\"data row10 col2\" >0.00%</td>\n",
       "    </tr>\n",
       "    <tr>\n",
       "      <th id=\"T_db492_level0_row11\" class=\"row_heading level0 row11\" >cb_person_cred_hist_length</th>\n",
       "      <td id=\"T_db492_row11_col0\" class=\"data row11 col0\" >0</td>\n",
       "      <td id=\"T_db492_row11_col1\" class=\"data row11 col1\" >32,581</td>\n",
       "      <td id=\"T_db492_row11_col2\" class=\"data row11 col2\" >0.00%</td>\n",
       "    </tr>\n",
       "  </tbody>\n",
       "</table>\n"
      ],
      "text/plain": [
       "<pandas.io.formats.style.Styler at 0x1d638d5a530>"
      ]
     },
     "execution_count": 6,
     "metadata": {},
     "output_type": "execute_result"
    }
   ],
   "source": [
    "df.stb.missing(style=True)"
   ]
  },
  {
   "cell_type": "markdown",
   "id": "cb404cc7",
   "metadata": {},
   "source": [
    "### Verificando informações estatísticas"
   ]
  },
  {
   "cell_type": "code",
   "execution_count": 7,
   "id": "72766138",
   "metadata": {},
   "outputs": [
    {
     "data": {
      "text/html": [
       "<div>\n",
       "<style scoped>\n",
       "    .dataframe tbody tr th:only-of-type {\n",
       "        vertical-align: middle;\n",
       "    }\n",
       "\n",
       "    .dataframe tbody tr th {\n",
       "        vertical-align: top;\n",
       "    }\n",
       "\n",
       "    .dataframe thead th {\n",
       "        text-align: right;\n",
       "    }\n",
       "</style>\n",
       "<table border=\"1\" class=\"dataframe\">\n",
       "  <thead>\n",
       "    <tr style=\"text-align: right;\">\n",
       "      <th></th>\n",
       "      <th>person_age</th>\n",
       "      <th>person_income</th>\n",
       "      <th>person_emp_length</th>\n",
       "      <th>loan_amnt</th>\n",
       "      <th>loan_int_rate</th>\n",
       "      <th>loan_status</th>\n",
       "      <th>loan_percent_income</th>\n",
       "      <th>cb_person_cred_hist_length</th>\n",
       "    </tr>\n",
       "  </thead>\n",
       "  <tbody>\n",
       "    <tr>\n",
       "      <th>count</th>\n",
       "      <td>32581.000000</td>\n",
       "      <td>3.258100e+04</td>\n",
       "      <td>31686.000000</td>\n",
       "      <td>32581.000000</td>\n",
       "      <td>29465.000000</td>\n",
       "      <td>32581.000000</td>\n",
       "      <td>32581.000000</td>\n",
       "      <td>32581.000000</td>\n",
       "    </tr>\n",
       "    <tr>\n",
       "      <th>mean</th>\n",
       "      <td>27.734600</td>\n",
       "      <td>6.607485e+04</td>\n",
       "      <td>4.789686</td>\n",
       "      <td>9589.371106</td>\n",
       "      <td>11.011695</td>\n",
       "      <td>0.218164</td>\n",
       "      <td>0.170203</td>\n",
       "      <td>5.804211</td>\n",
       "    </tr>\n",
       "    <tr>\n",
       "      <th>std</th>\n",
       "      <td>6.348078</td>\n",
       "      <td>6.198312e+04</td>\n",
       "      <td>4.142630</td>\n",
       "      <td>6322.086646</td>\n",
       "      <td>3.240459</td>\n",
       "      <td>0.413006</td>\n",
       "      <td>0.106782</td>\n",
       "      <td>4.055001</td>\n",
       "    </tr>\n",
       "    <tr>\n",
       "      <th>min</th>\n",
       "      <td>20.000000</td>\n",
       "      <td>4.000000e+03</td>\n",
       "      <td>0.000000</td>\n",
       "      <td>500.000000</td>\n",
       "      <td>5.420000</td>\n",
       "      <td>0.000000</td>\n",
       "      <td>0.000000</td>\n",
       "      <td>2.000000</td>\n",
       "    </tr>\n",
       "    <tr>\n",
       "      <th>25%</th>\n",
       "      <td>23.000000</td>\n",
       "      <td>3.850000e+04</td>\n",
       "      <td>2.000000</td>\n",
       "      <td>5000.000000</td>\n",
       "      <td>7.900000</td>\n",
       "      <td>0.000000</td>\n",
       "      <td>0.090000</td>\n",
       "      <td>3.000000</td>\n",
       "    </tr>\n",
       "    <tr>\n",
       "      <th>50%</th>\n",
       "      <td>26.000000</td>\n",
       "      <td>5.500000e+04</td>\n",
       "      <td>4.000000</td>\n",
       "      <td>8000.000000</td>\n",
       "      <td>10.990000</td>\n",
       "      <td>0.000000</td>\n",
       "      <td>0.150000</td>\n",
       "      <td>4.000000</td>\n",
       "    </tr>\n",
       "    <tr>\n",
       "      <th>75%</th>\n",
       "      <td>30.000000</td>\n",
       "      <td>7.920000e+04</td>\n",
       "      <td>7.000000</td>\n",
       "      <td>12200.000000</td>\n",
       "      <td>13.470000</td>\n",
       "      <td>0.000000</td>\n",
       "      <td>0.230000</td>\n",
       "      <td>8.000000</td>\n",
       "    </tr>\n",
       "    <tr>\n",
       "      <th>max</th>\n",
       "      <td>144.000000</td>\n",
       "      <td>6.000000e+06</td>\n",
       "      <td>123.000000</td>\n",
       "      <td>35000.000000</td>\n",
       "      <td>23.220000</td>\n",
       "      <td>1.000000</td>\n",
       "      <td>0.830000</td>\n",
       "      <td>30.000000</td>\n",
       "    </tr>\n",
       "  </tbody>\n",
       "</table>\n",
       "</div>"
      ],
      "text/plain": [
       "         person_age  person_income  person_emp_length     loan_amnt  \\\n",
       "count  32581.000000   3.258100e+04       31686.000000  32581.000000   \n",
       "mean      27.734600   6.607485e+04           4.789686   9589.371106   \n",
       "std        6.348078   6.198312e+04           4.142630   6322.086646   \n",
       "min       20.000000   4.000000e+03           0.000000    500.000000   \n",
       "25%       23.000000   3.850000e+04           2.000000   5000.000000   \n",
       "50%       26.000000   5.500000e+04           4.000000   8000.000000   \n",
       "75%       30.000000   7.920000e+04           7.000000  12200.000000   \n",
       "max      144.000000   6.000000e+06         123.000000  35000.000000   \n",
       "\n",
       "       loan_int_rate   loan_status  loan_percent_income  \\\n",
       "count   29465.000000  32581.000000         32581.000000   \n",
       "mean       11.011695      0.218164             0.170203   \n",
       "std         3.240459      0.413006             0.106782   \n",
       "min         5.420000      0.000000             0.000000   \n",
       "25%         7.900000      0.000000             0.090000   \n",
       "50%        10.990000      0.000000             0.150000   \n",
       "75%        13.470000      0.000000             0.230000   \n",
       "max        23.220000      1.000000             0.830000   \n",
       "\n",
       "       cb_person_cred_hist_length  \n",
       "count                32581.000000  \n",
       "mean                     5.804211  \n",
       "std                      4.055001  \n",
       "min                      2.000000  \n",
       "25%                      3.000000  \n",
       "50%                      4.000000  \n",
       "75%                      8.000000  \n",
       "max                     30.000000  "
      ]
     },
     "execution_count": 7,
     "metadata": {},
     "output_type": "execute_result"
    }
   ],
   "source": [
    "df.describe()"
   ]
  },
  {
   "cell_type": "code",
   "execution_count": 8,
   "id": "88b75c37",
   "metadata": {},
   "outputs": [
    {
     "data": {
      "text/html": [
       "<div>\n",
       "<style scoped>\n",
       "    .dataframe tbody tr th:only-of-type {\n",
       "        vertical-align: middle;\n",
       "    }\n",
       "\n",
       "    .dataframe tbody tr th {\n",
       "        vertical-align: top;\n",
       "    }\n",
       "\n",
       "    .dataframe thead th {\n",
       "        text-align: right;\n",
       "    }\n",
       "</style>\n",
       "<table border=\"1\" class=\"dataframe\">\n",
       "  <thead>\n",
       "    <tr style=\"text-align: right;\">\n",
       "      <th></th>\n",
       "      <th>count</th>\n",
       "      <th>unique</th>\n",
       "      <th>most_freq</th>\n",
       "      <th>most_freq_count</th>\n",
       "      <th>least_freq</th>\n",
       "      <th>least_freq_count</th>\n",
       "    </tr>\n",
       "  </thead>\n",
       "  <tbody>\n",
       "    <tr>\n",
       "      <th>loan_status</th>\n",
       "      <td>32581</td>\n",
       "      <td>2</td>\n",
       "      <td>0</td>\n",
       "      <td>25473</td>\n",
       "      <td>1</td>\n",
       "      <td>7108</td>\n",
       "    </tr>\n",
       "    <tr>\n",
       "      <th>cb_person_default_on_file</th>\n",
       "      <td>32581</td>\n",
       "      <td>2</td>\n",
       "      <td>N</td>\n",
       "      <td>26836</td>\n",
       "      <td>Y</td>\n",
       "      <td>5745</td>\n",
       "    </tr>\n",
       "    <tr>\n",
       "      <th>person_home_ownership</th>\n",
       "      <td>32581</td>\n",
       "      <td>4</td>\n",
       "      <td>RENT</td>\n",
       "      <td>16446</td>\n",
       "      <td>OTHER</td>\n",
       "      <td>107</td>\n",
       "    </tr>\n",
       "    <tr>\n",
       "      <th>loan_intent</th>\n",
       "      <td>32581</td>\n",
       "      <td>6</td>\n",
       "      <td>EDUCATION</td>\n",
       "      <td>6453</td>\n",
       "      <td>HOMEIMPROVEMENT</td>\n",
       "      <td>3605</td>\n",
       "    </tr>\n",
       "    <tr>\n",
       "      <th>loan_grade</th>\n",
       "      <td>32581</td>\n",
       "      <td>7</td>\n",
       "      <td>A</td>\n",
       "      <td>10777</td>\n",
       "      <td>G</td>\n",
       "      <td>64</td>\n",
       "    </tr>\n",
       "    <tr>\n",
       "      <th>cb_person_cred_hist_length</th>\n",
       "      <td>32581</td>\n",
       "      <td>29</td>\n",
       "      <td>2</td>\n",
       "      <td>5965</td>\n",
       "      <td>29</td>\n",
       "      <td>14</td>\n",
       "    </tr>\n",
       "    <tr>\n",
       "      <th>person_emp_length</th>\n",
       "      <td>31686</td>\n",
       "      <td>36</td>\n",
       "      <td>0.0</td>\n",
       "      <td>4105</td>\n",
       "      <td>41.0</td>\n",
       "      <td>1</td>\n",
       "    </tr>\n",
       "    <tr>\n",
       "      <th>person_age</th>\n",
       "      <td>32581</td>\n",
       "      <td>58</td>\n",
       "      <td>23</td>\n",
       "      <td>3889</td>\n",
       "      <td>78</td>\n",
       "      <td>1</td>\n",
       "    </tr>\n",
       "    <tr>\n",
       "      <th>loan_percent_income</th>\n",
       "      <td>32581</td>\n",
       "      <td>77</td>\n",
       "      <td>0.1</td>\n",
       "      <td>1533</td>\n",
       "      <td>0.62</td>\n",
       "      <td>1</td>\n",
       "    </tr>\n",
       "    <tr>\n",
       "      <th>loan_int_rate</th>\n",
       "      <td>29465</td>\n",
       "      <td>348</td>\n",
       "      <td>7.51</td>\n",
       "      <td>756</td>\n",
       "      <td>22.48</td>\n",
       "      <td>1</td>\n",
       "    </tr>\n",
       "    <tr>\n",
       "      <th>loan_amnt</th>\n",
       "      <td>32581</td>\n",
       "      <td>753</td>\n",
       "      <td>10000</td>\n",
       "      <td>2664</td>\n",
       "      <td>31400</td>\n",
       "      <td>1</td>\n",
       "    </tr>\n",
       "    <tr>\n",
       "      <th>person_income</th>\n",
       "      <td>32581</td>\n",
       "      <td>4295</td>\n",
       "      <td>60000</td>\n",
       "      <td>1046</td>\n",
       "      <td>47652</td>\n",
       "      <td>1</td>\n",
       "    </tr>\n",
       "  </tbody>\n",
       "</table>\n",
       "</div>"
      ],
      "text/plain": [
       "                            count  unique  most_freq  most_freq_count  \\\n",
       "loan_status                 32581       2          0            25473   \n",
       "cb_person_default_on_file   32581       2          N            26836   \n",
       "person_home_ownership       32581       4       RENT            16446   \n",
       "loan_intent                 32581       6  EDUCATION             6453   \n",
       "loan_grade                  32581       7          A            10777   \n",
       "cb_person_cred_hist_length  32581      29          2             5965   \n",
       "person_emp_length           31686      36        0.0             4105   \n",
       "person_age                  32581      58         23             3889   \n",
       "loan_percent_income         32581      77        0.1             1533   \n",
       "loan_int_rate               29465     348       7.51              756   \n",
       "loan_amnt                   32581     753      10000             2664   \n",
       "person_income               32581    4295      60000             1046   \n",
       "\n",
       "                                 least_freq  least_freq_count  \n",
       "loan_status                               1              7108  \n",
       "cb_person_default_on_file                 Y              5745  \n",
       "person_home_ownership                 OTHER               107  \n",
       "loan_intent                 HOMEIMPROVEMENT              3605  \n",
       "loan_grade                                G                64  \n",
       "cb_person_cred_hist_length               29                14  \n",
       "person_emp_length                      41.0                 1  \n",
       "person_age                               78                 1  \n",
       "loan_percent_income                    0.62                 1  \n",
       "loan_int_rate                         22.48                 1  \n",
       "loan_amnt                             31400                 1  \n",
       "person_income                         47652                 1  "
      ]
     },
     "execution_count": 8,
     "metadata": {},
     "output_type": "execute_result"
    }
   ],
   "source": [
    "df.stb.counts()"
   ]
  },
  {
   "cell_type": "markdown",
   "id": "9f269888",
   "metadata": {},
   "source": [
    "### Análise univariada"
   ]
  },
  {
   "cell_type": "code",
   "execution_count": 9,
   "id": "976c4a22",
   "metadata": {},
   "outputs": [
    {
     "data": {
      "image/png": "[encoded data removed]",
      "text/plain": [
       "<Figure size 1200x900 with 9 Axes>"
      ]
     },
     "metadata": {},
     "output_type": "display_data"
    }
   ],
   "source": [
    "df.hist(bins = 30, figsize = (12,9) , color = 'b');"
   ]
  },
  {
   "cell_type": "code",
   "execution_count": 10,
   "id": "fc98c53b",
   "metadata": {
    "scrolled": false
   },
   "outputs": [
    {
     "data": {
      "image/png": "[encoded data removed]",
      "text/plain": [
       "<Figure size 800x300 with 1 Axes>"
      ]
     },
     "metadata": {},
     "output_type": "display_data"
    }
   ],
   "source": [
    "_ = plt.figure(figsize=(8,3))\n",
    "_ = sns.histplot(df['person_age'], binwidth=10, kde=True)\n",
    "_ = plt.title('Idade')"
   ]
  },
  {
   "cell_type": "code",
   "execution_count": 11,
   "id": "d510741a",
   "metadata": {},
   "outputs": [
    {
     "data": {
      "text/html": [
       "<div>\n",
       "<style scoped>\n",
       "    .dataframe tbody tr th:only-of-type {\n",
       "        vertical-align: middle;\n",
       "    }\n",
       "\n",
       "    .dataframe tbody tr th {\n",
       "        vertical-align: top;\n",
       "    }\n",
       "\n",
       "    .dataframe thead th {\n",
       "        text-align: right;\n",
       "    }\n",
       "</style>\n",
       "<table border=\"1\" class=\"dataframe\">\n",
       "  <thead>\n",
       "    <tr style=\"text-align: right;\">\n",
       "      <th></th>\n",
       "      <th>person_age</th>\n",
       "      <th>person_income</th>\n",
       "      <th>person_home_ownership</th>\n",
       "      <th>person_emp_length</th>\n",
       "      <th>loan_intent</th>\n",
       "      <th>loan_grade</th>\n",
       "      <th>loan_amnt</th>\n",
       "      <th>loan_int_rate</th>\n",
       "      <th>loan_status</th>\n",
       "      <th>loan_percent_income</th>\n",
       "      <th>cb_person_default_on_file</th>\n",
       "      <th>cb_person_cred_hist_length</th>\n",
       "    </tr>\n",
       "  </thead>\n",
       "  <tbody>\n",
       "    <tr>\n",
       "      <th>81</th>\n",
       "      <td>144</td>\n",
       "      <td>250000</td>\n",
       "      <td>RENT</td>\n",
       "      <td>4.0</td>\n",
       "      <td>VENTURE</td>\n",
       "      <td>C</td>\n",
       "      <td>4800</td>\n",
       "      <td>13.57</td>\n",
       "      <td>0</td>\n",
       "      <td>0.02</td>\n",
       "      <td>N</td>\n",
       "      <td>3</td>\n",
       "    </tr>\n",
       "    <tr>\n",
       "      <th>183</th>\n",
       "      <td>144</td>\n",
       "      <td>200000</td>\n",
       "      <td>MORTGAGE</td>\n",
       "      <td>4.0</td>\n",
       "      <td>EDUCATION</td>\n",
       "      <td>B</td>\n",
       "      <td>6000</td>\n",
       "      <td>11.86</td>\n",
       "      <td>0</td>\n",
       "      <td>0.03</td>\n",
       "      <td>N</td>\n",
       "      <td>2</td>\n",
       "    </tr>\n",
       "    <tr>\n",
       "      <th>575</th>\n",
       "      <td>123</td>\n",
       "      <td>80004</td>\n",
       "      <td>RENT</td>\n",
       "      <td>2.0</td>\n",
       "      <td>EDUCATION</td>\n",
       "      <td>B</td>\n",
       "      <td>20400</td>\n",
       "      <td>10.25</td>\n",
       "      <td>0</td>\n",
       "      <td>0.25</td>\n",
       "      <td>N</td>\n",
       "      <td>3</td>\n",
       "    </tr>\n",
       "    <tr>\n",
       "      <th>747</th>\n",
       "      <td>123</td>\n",
       "      <td>78000</td>\n",
       "      <td>RENT</td>\n",
       "      <td>7.0</td>\n",
       "      <td>VENTURE</td>\n",
       "      <td>B</td>\n",
       "      <td>20000</td>\n",
       "      <td>NaN</td>\n",
       "      <td>0</td>\n",
       "      <td>0.26</td>\n",
       "      <td>N</td>\n",
       "      <td>4</td>\n",
       "    </tr>\n",
       "    <tr>\n",
       "      <th>32297</th>\n",
       "      <td>144</td>\n",
       "      <td>6000000</td>\n",
       "      <td>MORTGAGE</td>\n",
       "      <td>12.0</td>\n",
       "      <td>PERSONAL</td>\n",
       "      <td>C</td>\n",
       "      <td>5000</td>\n",
       "      <td>12.73</td>\n",
       "      <td>0</td>\n",
       "      <td>0.00</td>\n",
       "      <td>N</td>\n",
       "      <td>25</td>\n",
       "    </tr>\n",
       "  </tbody>\n",
       "</table>\n",
       "</div>"
      ],
      "text/plain": [
       "       person_age  person_income person_home_ownership  person_emp_length  \\\n",
       "81            144         250000                  RENT                4.0   \n",
       "183           144         200000              MORTGAGE                4.0   \n",
       "575           123          80004                  RENT                2.0   \n",
       "747           123          78000                  RENT                7.0   \n",
       "32297         144        6000000              MORTGAGE               12.0   \n",
       "\n",
       "      loan_intent loan_grade  loan_amnt  loan_int_rate  loan_status  \\\n",
       "81        VENTURE          C       4800          13.57            0   \n",
       "183     EDUCATION          B       6000          11.86            0   \n",
       "575     EDUCATION          B      20400          10.25            0   \n",
       "747       VENTURE          B      20000            NaN            0   \n",
       "32297    PERSONAL          C       5000          12.73            0   \n",
       "\n",
       "       loan_percent_income cb_person_default_on_file  \\\n",
       "81                    0.02                         N   \n",
       "183                   0.03                         N   \n",
       "575                   0.25                         N   \n",
       "747                   0.26                         N   \n",
       "32297                 0.00                         N   \n",
       "\n",
       "       cb_person_cred_hist_length  \n",
       "81                              3  \n",
       "183                             2  \n",
       "575                             3  \n",
       "747                             4  \n",
       "32297                          25  "
      ]
     },
     "execution_count": 11,
     "metadata": {},
     "output_type": "execute_result"
    }
   ],
   "source": [
    "df.loc[df['person_age'] > 100]"
   ]
  },
  {
   "cell_type": "markdown",
   "id": "497e705d",
   "metadata": {},
   "source": [
    "### Foram encontrados 5 registros com idade acima de 100 anos, entre 120 e 145"
   ]
  },
  {
   "cell_type": "code",
   "execution_count": 12,
   "id": "abdfb9f1",
   "metadata": {},
   "outputs": [],
   "source": [
    "# excluindo os registros\n",
    "df = df.loc[df['person_age'] < 100]"
   ]
  },
  {
   "cell_type": "code",
   "execution_count": 13,
   "id": "6d93843a",
   "metadata": {},
   "outputs": [
    {
     "data": {
      "image/png": "[encoded data removed]",
      "text/plain": [
       "<Figure size 800x300 with 1 Axes>"
      ]
     },
     "metadata": {},
     "output_type": "display_data"
    }
   ],
   "source": [
    "_ = plt.figure(figsize=(8,3))\n",
    "_ = sns.histplot(df['person_emp_length'], binwidth=10, kde=True)\n",
    "_ = plt.title('Tempo de Empresa')"
   ]
  },
  {
   "cell_type": "code",
   "execution_count": 14,
   "id": "ec4b5d73",
   "metadata": {},
   "outputs": [
    {
     "data": {
      "text/html": [
       "<div>\n",
       "<style scoped>\n",
       "    .dataframe tbody tr th:only-of-type {\n",
       "        vertical-align: middle;\n",
       "    }\n",
       "\n",
       "    .dataframe tbody tr th {\n",
       "        vertical-align: top;\n",
       "    }\n",
       "\n",
       "    .dataframe thead th {\n",
       "        text-align: right;\n",
       "    }\n",
       "</style>\n",
       "<table border=\"1\" class=\"dataframe\">\n",
       "  <thead>\n",
       "    <tr style=\"text-align: right;\">\n",
       "      <th></th>\n",
       "      <th>person_age</th>\n",
       "      <th>person_income</th>\n",
       "      <th>person_home_ownership</th>\n",
       "      <th>person_emp_length</th>\n",
       "      <th>loan_intent</th>\n",
       "      <th>loan_grade</th>\n",
       "      <th>loan_amnt</th>\n",
       "      <th>loan_int_rate</th>\n",
       "      <th>loan_status</th>\n",
       "      <th>loan_percent_income</th>\n",
       "      <th>cb_person_default_on_file</th>\n",
       "      <th>cb_person_cred_hist_length</th>\n",
       "    </tr>\n",
       "  </thead>\n",
       "  <tbody>\n",
       "    <tr>\n",
       "      <th>0</th>\n",
       "      <td>22</td>\n",
       "      <td>59000</td>\n",
       "      <td>RENT</td>\n",
       "      <td>123.0</td>\n",
       "      <td>PERSONAL</td>\n",
       "      <td>D</td>\n",
       "      <td>35000</td>\n",
       "      <td>16.02</td>\n",
       "      <td>1</td>\n",
       "      <td>0.59</td>\n",
       "      <td>Y</td>\n",
       "      <td>3</td>\n",
       "    </tr>\n",
       "    <tr>\n",
       "      <th>210</th>\n",
       "      <td>21</td>\n",
       "      <td>192000</td>\n",
       "      <td>MORTGAGE</td>\n",
       "      <td>123.0</td>\n",
       "      <td>VENTURE</td>\n",
       "      <td>A</td>\n",
       "      <td>20000</td>\n",
       "      <td>6.54</td>\n",
       "      <td>0</td>\n",
       "      <td>0.10</td>\n",
       "      <td>N</td>\n",
       "      <td>4</td>\n",
       "    </tr>\n",
       "  </tbody>\n",
       "</table>\n",
       "</div>"
      ],
      "text/plain": [
       "     person_age  person_income person_home_ownership  person_emp_length  \\\n",
       "0            22          59000                  RENT              123.0   \n",
       "210          21         192000              MORTGAGE              123.0   \n",
       "\n",
       "    loan_intent loan_grade  loan_amnt  loan_int_rate  loan_status  \\\n",
       "0      PERSONAL          D      35000          16.02            1   \n",
       "210     VENTURE          A      20000           6.54            0   \n",
       "\n",
       "     loan_percent_income cb_person_default_on_file  cb_person_cred_hist_length  \n",
       "0                   0.59                         Y                           3  \n",
       "210                 0.10                         N                           4  "
      ]
     },
     "execution_count": 14,
     "metadata": {},
     "output_type": "execute_result"
    }
   ],
   "source": [
    "df.loc[df['person_emp_length'] > 50]"
   ]
  },
  {
   "cell_type": "markdown",
   "id": "2b02eda0",
   "metadata": {},
   "source": [
    "### Encontrados 2 registros com tempo de empresa igual a 123 anos"
   ]
  },
  {
   "cell_type": "code",
   "execution_count": 15,
   "id": "574d092b",
   "metadata": {},
   "outputs": [],
   "source": [
    "# excluindo os registros\n",
    "df = df.loc[df['person_emp_length'] != 123.00]"
   ]
  },
  {
   "cell_type": "markdown",
   "id": "71624cbc",
   "metadata": {},
   "source": [
    "### Verificando se há alguma relação considerável entre as features"
   ]
  },
  {
   "cell_type": "code",
   "execution_count": 16,
   "id": "72f0e807",
   "metadata": {},
   "outputs": [
    {
     "data": {
      "image/png": "[encoded data removed]",
      "text/plain": [
       "<Figure size 800x500 with 2 Axes>"
      ]
     },
     "metadata": {},
     "output_type": "display_data"
    }
   ],
   "source": [
    "_ = plt.figure(figsize = (8,5))\n",
    "_ = sns.heatmap(df.corr(), annot=True, cmap='Blues')"
   ]
  },
  {
   "cell_type": "markdown",
   "id": "0d81513a",
   "metadata": {},
   "source": [
    "### Há uma relação considerável entre idade e o tempo de histórico"
   ]
  },
  {
   "cell_type": "markdown",
   "id": "e6509543",
   "metadata": {},
   "source": [
    "### Verificando se há outliers na renda anual"
   ]
  },
  {
   "cell_type": "code",
   "execution_count": 17,
   "id": "f558daef",
   "metadata": {},
   "outputs": [
    {
     "data": {
      "text/plain": [
       "<Axes: xlabel='person_income'>"
      ]
     },
     "execution_count": 17,
     "metadata": {},
     "output_type": "execute_result"
    },
    {
     "data": {
      "image/png": "[encoded data removed]",
      "text/plain": [
       "<Figure size 1300x400 with 2 Axes>"
      ]
     },
     "metadata": {},
     "output_type": "display_data"
    }
   ],
   "source": [
    "q1 = df['person_income'].quantile(0.25)\n",
    "q3 = df['person_income'].quantile(0.75)\n",
    "amplitude = q3 - q1\n",
    "\n",
    "fig, (ax1, ax2) = plt.subplots(1,2)\n",
    "fig.set_size_inches(13,4)\n",
    "sns.boxplot(x=df['person_income'], ax=ax1)\n",
    "ax2.set_xlim(q1 - 1.5 * amplitude, q3 + 1.5 * amplitude)\n",
    "sns.boxplot(x=df['person_income'], ax=ax2)"
   ]
  },
  {
   "cell_type": "markdown",
   "id": "e9e589a9",
   "metadata": {},
   "source": [
    "### Verificado que existem pessoas com renda muito superior a média"
   ]
  },
  {
   "cell_type": "code",
   "execution_count": 18,
   "id": "ddcff4c3",
   "metadata": {},
   "outputs": [
    {
     "name": "stdout",
     "output_type": "stream",
     "text": [
      "1480 registros removidos da base de dados\n"
     ]
    }
   ],
   "source": [
    "# excluindo o registros\n",
    "qtd_linhas = df.shape[0]\n",
    "lim_inf = q1 - 1.5 * amplitude\n",
    "lim_sup = q3 + 1.5 * amplitude\n",
    "df = df.loc[(df['person_income'] >= lim_inf) & (df['person_income'] <= lim_sup), :]\n",
    "linhas_removidas = qtd_linhas - df.shape[0]\n",
    "print(f'{linhas_removidas} registros removidos da base de dados')"
   ]
  },
  {
   "cell_type": "code",
   "execution_count": 19,
   "id": "830ad91d",
   "metadata": {},
   "outputs": [
    {
     "data": {
      "text/html": [
       "<style type=\"text/css\">\n",
       "</style>\n",
       "<table id=\"T_f8090\">\n",
       "  <thead>\n",
       "    <tr>\n",
       "      <th class=\"blank level0\" >&nbsp;</th>\n",
       "      <th id=\"T_f8090_level0_col0\" class=\"col_heading level0 col0\" >person_home_ownership</th>\n",
       "      <th id=\"T_f8090_level0_col1\" class=\"col_heading level0 col1\" >count</th>\n",
       "      <th id=\"T_f8090_level0_col2\" class=\"col_heading level0 col2\" >percent</th>\n",
       "      <th id=\"T_f8090_level0_col3\" class=\"col_heading level0 col3\" >cumulative_count</th>\n",
       "      <th id=\"T_f8090_level0_col4\" class=\"col_heading level0 col4\" >cumulative_percent</th>\n",
       "    </tr>\n",
       "  </thead>\n",
       "  <tbody>\n",
       "    <tr>\n",
       "      <th id=\"T_f8090_level0_row0\" class=\"row_heading level0 row0\" >0</th>\n",
       "      <td id=\"T_f8090_row0_col0\" class=\"data row0 col0\" >RENT</td>\n",
       "      <td id=\"T_f8090_row0_col1\" class=\"data row0 col1\" >16,099</td>\n",
       "      <td id=\"T_f8090_row0_col2\" class=\"data row0 col2\" >51.78%</td>\n",
       "      <td id=\"T_f8090_row0_col3\" class=\"data row0 col3\" >16,099</td>\n",
       "      <td id=\"T_f8090_row0_col4\" class=\"data row0 col4\" >51.78%</td>\n",
       "    </tr>\n",
       "    <tr>\n",
       "      <th id=\"T_f8090_level0_row1\" class=\"row_heading level0 row1\" >1</th>\n",
       "      <td id=\"T_f8090_row1_col0\" class=\"data row1 col0\" >MORTGAGE</td>\n",
       "      <td id=\"T_f8090_row1_col1\" class=\"data row1 col1\" >12,426</td>\n",
       "      <td id=\"T_f8090_row1_col2\" class=\"data row1 col2\" >39.96%</td>\n",
       "      <td id=\"T_f8090_row1_col3\" class=\"data row1 col3\" >28,525</td>\n",
       "      <td id=\"T_f8090_row1_col4\" class=\"data row1 col4\" >91.74%</td>\n",
       "    </tr>\n",
       "    <tr>\n",
       "      <th id=\"T_f8090_level0_row2\" class=\"row_heading level0 row2\" >2</th>\n",
       "      <td id=\"T_f8090_row2_col0\" class=\"data row2 col0\" >OWN</td>\n",
       "      <td id=\"T_f8090_row2_col1\" class=\"data row2 col1\" >2,469</td>\n",
       "      <td id=\"T_f8090_row2_col2\" class=\"data row2 col2\" >7.94%</td>\n",
       "      <td id=\"T_f8090_row2_col3\" class=\"data row2 col3\" >30,994</td>\n",
       "      <td id=\"T_f8090_row2_col4\" class=\"data row2 col4\" >99.68%</td>\n",
       "    </tr>\n",
       "    <tr>\n",
       "      <th id=\"T_f8090_level0_row3\" class=\"row_heading level0 row3\" >3</th>\n",
       "      <td id=\"T_f8090_row3_col0\" class=\"data row3 col0\" >OTHER</td>\n",
       "      <td id=\"T_f8090_row3_col1\" class=\"data row3 col1\" >100</td>\n",
       "      <td id=\"T_f8090_row3_col2\" class=\"data row3 col2\" >0.32%</td>\n",
       "      <td id=\"T_f8090_row3_col3\" class=\"data row3 col3\" >31,094</td>\n",
       "      <td id=\"T_f8090_row3_col4\" class=\"data row3 col4\" >100.00%</td>\n",
       "    </tr>\n",
       "  </tbody>\n",
       "</table>\n"
      ],
      "text/plain": [
       "<pandas.io.formats.style.Styler at 0x1d63bec64a0>"
      ]
     },
     "execution_count": 19,
     "metadata": {},
     "output_type": "execute_result"
    }
   ],
   "source": [
    "df.stb.freq(['person_home_ownership'], style=True)"
   ]
  },
  {
   "cell_type": "markdown",
   "id": "b4d9a26d",
   "metadata": {},
   "source": [
    "### Verificado que mais de 91% das pessoas moram de aluguel ou possui hipotéca"
   ]
  },
  {
   "cell_type": "code",
   "execution_count": 20,
   "id": "f06016ad",
   "metadata": {
    "scrolled": true
   },
   "outputs": [
    {
     "data": {
      "text/html": [
       "<style type=\"text/css\">\n",
       "</style>\n",
       "<table id=\"T_1a62e\">\n",
       "  <thead>\n",
       "    <tr>\n",
       "      <th class=\"blank level0\" >&nbsp;</th>\n",
       "      <th id=\"T_1a62e_level0_col0\" class=\"col_heading level0 col0\" >loan_intent</th>\n",
       "      <th id=\"T_1a62e_level0_col1\" class=\"col_heading level0 col1\" >count</th>\n",
       "      <th id=\"T_1a62e_level0_col2\" class=\"col_heading level0 col2\" >percent</th>\n",
       "      <th id=\"T_1a62e_level0_col3\" class=\"col_heading level0 col3\" >cumulative_count</th>\n",
       "      <th id=\"T_1a62e_level0_col4\" class=\"col_heading level0 col4\" >cumulative_percent</th>\n",
       "    </tr>\n",
       "  </thead>\n",
       "  <tbody>\n",
       "    <tr>\n",
       "      <th id=\"T_1a62e_level0_row0\" class=\"row_heading level0 row0\" >0</th>\n",
       "      <td id=\"T_1a62e_row0_col0\" class=\"data row0 col0\" >EDUCATION</td>\n",
       "      <td id=\"T_1a62e_row0_col1\" class=\"data row0 col1\" >6,200</td>\n",
       "      <td id=\"T_1a62e_row0_col2\" class=\"data row0 col2\" >19.94%</td>\n",
       "      <td id=\"T_1a62e_row0_col3\" class=\"data row0 col3\" >6,200</td>\n",
       "      <td id=\"T_1a62e_row0_col4\" class=\"data row0 col4\" >19.94%</td>\n",
       "    </tr>\n",
       "    <tr>\n",
       "      <th id=\"T_1a62e_level0_row1\" class=\"row_heading level0 row1\" >1</th>\n",
       "      <td id=\"T_1a62e_row1_col0\" class=\"data row1 col0\" >MEDICAL</td>\n",
       "      <td id=\"T_1a62e_row1_col1\" class=\"data row1 col1\" >5,846</td>\n",
       "      <td id=\"T_1a62e_row1_col2\" class=\"data row1 col2\" >18.80%</td>\n",
       "      <td id=\"T_1a62e_row1_col3\" class=\"data row1 col3\" >12,046</td>\n",
       "      <td id=\"T_1a62e_row1_col4\" class=\"data row1 col4\" >38.74%</td>\n",
       "    </tr>\n",
       "    <tr>\n",
       "      <th id=\"T_1a62e_level0_row2\" class=\"row_heading level0 row2\" >2</th>\n",
       "      <td id=\"T_1a62e_row2_col0\" class=\"data row2 col0\" >VENTURE</td>\n",
       "      <td id=\"T_1a62e_row2_col1\" class=\"data row2 col1\" >5,444</td>\n",
       "      <td id=\"T_1a62e_row2_col2\" class=\"data row2 col2\" >17.51%</td>\n",
       "      <td id=\"T_1a62e_row2_col3\" class=\"data row2 col3\" >17,490</td>\n",
       "      <td id=\"T_1a62e_row2_col4\" class=\"data row2 col4\" >56.25%</td>\n",
       "    </tr>\n",
       "    <tr>\n",
       "      <th id=\"T_1a62e_level0_row3\" class=\"row_heading level0 row3\" >3</th>\n",
       "      <td id=\"T_1a62e_row3_col0\" class=\"data row3 col0\" >PERSONAL</td>\n",
       "      <td id=\"T_1a62e_row3_col1\" class=\"data row3 col1\" >5,259</td>\n",
       "      <td id=\"T_1a62e_row3_col2\" class=\"data row3 col2\" >16.91%</td>\n",
       "      <td id=\"T_1a62e_row3_col3\" class=\"data row3 col3\" >22,749</td>\n",
       "      <td id=\"T_1a62e_row3_col4\" class=\"data row3 col4\" >73.16%</td>\n",
       "    </tr>\n",
       "    <tr>\n",
       "      <th id=\"T_1a62e_level0_row4\" class=\"row_heading level0 row4\" >4</th>\n",
       "      <td id=\"T_1a62e_row4_col0\" class=\"data row4 col0\" >DEBTCONSOLIDATION</td>\n",
       "      <td id=\"T_1a62e_row4_col1\" class=\"data row4 col1\" >4,955</td>\n",
       "      <td id=\"T_1a62e_row4_col2\" class=\"data row4 col2\" >15.94%</td>\n",
       "      <td id=\"T_1a62e_row4_col3\" class=\"data row4 col3\" >27,704</td>\n",
       "      <td id=\"T_1a62e_row4_col4\" class=\"data row4 col4\" >89.10%</td>\n",
       "    </tr>\n",
       "    <tr>\n",
       "      <th id=\"T_1a62e_level0_row5\" class=\"row_heading level0 row5\" >5</th>\n",
       "      <td id=\"T_1a62e_row5_col0\" class=\"data row5 col0\" >HOMEIMPROVEMENT</td>\n",
       "      <td id=\"T_1a62e_row5_col1\" class=\"data row5 col1\" >3,390</td>\n",
       "      <td id=\"T_1a62e_row5_col2\" class=\"data row5 col2\" >10.90%</td>\n",
       "      <td id=\"T_1a62e_row5_col3\" class=\"data row5 col3\" >31,094</td>\n",
       "      <td id=\"T_1a62e_row5_col4\" class=\"data row5 col4\" >100.00%</td>\n",
       "    </tr>\n",
       "  </tbody>\n",
       "</table>\n"
      ],
      "text/plain": [
       "<pandas.io.formats.style.Styler at 0x1d63aaf84c0>"
      ]
     },
     "execution_count": 20,
     "metadata": {},
     "output_type": "execute_result"
    }
   ],
   "source": [
    "df.stb.freq(['loan_intent'], style=True)"
   ]
  },
  {
   "cell_type": "markdown",
   "id": "1589aabc",
   "metadata": {},
   "source": [
    "### Verificado que não há discrepancia no propósito do empréstimo"
   ]
  },
  {
   "cell_type": "code",
   "execution_count": 21,
   "id": "98ad2f03",
   "metadata": {},
   "outputs": [
    {
     "data": {
      "text/html": [
       "<style type=\"text/css\">\n",
       "</style>\n",
       "<table id=\"T_f55ce\">\n",
       "  <thead>\n",
       "    <tr>\n",
       "      <th class=\"blank level0\" >&nbsp;</th>\n",
       "      <th id=\"T_f55ce_level0_col0\" class=\"col_heading level0 col0\" >loan_grade</th>\n",
       "      <th id=\"T_f55ce_level0_col1\" class=\"col_heading level0 col1\" >count</th>\n",
       "      <th id=\"T_f55ce_level0_col2\" class=\"col_heading level0 col2\" >percent</th>\n",
       "      <th id=\"T_f55ce_level0_col3\" class=\"col_heading level0 col3\" >cumulative_count</th>\n",
       "      <th id=\"T_f55ce_level0_col4\" class=\"col_heading level0 col4\" >cumulative_percent</th>\n",
       "    </tr>\n",
       "  </thead>\n",
       "  <tbody>\n",
       "    <tr>\n",
       "      <th id=\"T_f55ce_level0_row0\" class=\"row_heading level0 row0\" >0</th>\n",
       "      <td id=\"T_f55ce_row0_col0\" class=\"data row0 col0\" >A</td>\n",
       "      <td id=\"T_f55ce_row0_col1\" class=\"data row0 col1\" >10,343</td>\n",
       "      <td id=\"T_f55ce_row0_col2\" class=\"data row0 col2\" >33.26%</td>\n",
       "      <td id=\"T_f55ce_row0_col3\" class=\"data row0 col3\" >10,343</td>\n",
       "      <td id=\"T_f55ce_row0_col4\" class=\"data row0 col4\" >33.26%</td>\n",
       "    </tr>\n",
       "    <tr>\n",
       "      <th id=\"T_f55ce_level0_row1\" class=\"row_heading level0 row1\" >1</th>\n",
       "      <td id=\"T_f55ce_row1_col0\" class=\"data row1 col0\" >B</td>\n",
       "      <td id=\"T_f55ce_row1_col1\" class=\"data row1 col1\" >9,922</td>\n",
       "      <td id=\"T_f55ce_row1_col2\" class=\"data row1 col2\" >31.91%</td>\n",
       "      <td id=\"T_f55ce_row1_col3\" class=\"data row1 col3\" >20,265</td>\n",
       "      <td id=\"T_f55ce_row1_col4\" class=\"data row1 col4\" >65.17%</td>\n",
       "    </tr>\n",
       "    <tr>\n",
       "      <th id=\"T_f55ce_level0_row2\" class=\"row_heading level0 row2\" >2</th>\n",
       "      <td id=\"T_f55ce_row2_col0\" class=\"data row2 col0\" >C</td>\n",
       "      <td id=\"T_f55ce_row2_col1\" class=\"data row2 col1\" >6,191</td>\n",
       "      <td id=\"T_f55ce_row2_col2\" class=\"data row2 col2\" >19.91%</td>\n",
       "      <td id=\"T_f55ce_row2_col3\" class=\"data row2 col3\" >26,456</td>\n",
       "      <td id=\"T_f55ce_row2_col4\" class=\"data row2 col4\" >85.08%</td>\n",
       "    </tr>\n",
       "    <tr>\n",
       "      <th id=\"T_f55ce_level0_row3\" class=\"row_heading level0 row3\" >3</th>\n",
       "      <td id=\"T_f55ce_row3_col0\" class=\"data row3 col0\" >D</td>\n",
       "      <td id=\"T_f55ce_row3_col1\" class=\"data row3 col1\" >3,458</td>\n",
       "      <td id=\"T_f55ce_row3_col2\" class=\"data row3 col2\" >11.12%</td>\n",
       "      <td id=\"T_f55ce_row3_col3\" class=\"data row3 col3\" >29,914</td>\n",
       "      <td id=\"T_f55ce_row3_col4\" class=\"data row3 col4\" >96.21%</td>\n",
       "    </tr>\n",
       "    <tr>\n",
       "      <th id=\"T_f55ce_level0_row4\" class=\"row_heading level0 row4\" >4</th>\n",
       "      <td id=\"T_f55ce_row4_col0\" class=\"data row4 col0\" >E</td>\n",
       "      <td id=\"T_f55ce_row4_col1\" class=\"data row4 col1\" >899</td>\n",
       "      <td id=\"T_f55ce_row4_col2\" class=\"data row4 col2\" >2.89%</td>\n",
       "      <td id=\"T_f55ce_row4_col3\" class=\"data row4 col3\" >30,813</td>\n",
       "      <td id=\"T_f55ce_row4_col4\" class=\"data row4 col4\" >99.10%</td>\n",
       "    </tr>\n",
       "    <tr>\n",
       "      <th id=\"T_f55ce_level0_row5\" class=\"row_heading level0 row5\" >5</th>\n",
       "      <td id=\"T_f55ce_row5_col0\" class=\"data row5 col0\" >F</td>\n",
       "      <td id=\"T_f55ce_row5_col1\" class=\"data row5 col1\" >221</td>\n",
       "      <td id=\"T_f55ce_row5_col2\" class=\"data row5 col2\" >0.71%</td>\n",
       "      <td id=\"T_f55ce_row5_col3\" class=\"data row5 col3\" >31,034</td>\n",
       "      <td id=\"T_f55ce_row5_col4\" class=\"data row5 col4\" >99.81%</td>\n",
       "    </tr>\n",
       "    <tr>\n",
       "      <th id=\"T_f55ce_level0_row6\" class=\"row_heading level0 row6\" >6</th>\n",
       "      <td id=\"T_f55ce_row6_col0\" class=\"data row6 col0\" >G</td>\n",
       "      <td id=\"T_f55ce_row6_col1\" class=\"data row6 col1\" >60</td>\n",
       "      <td id=\"T_f55ce_row6_col2\" class=\"data row6 col2\" >0.19%</td>\n",
       "      <td id=\"T_f55ce_row6_col3\" class=\"data row6 col3\" >31,094</td>\n",
       "      <td id=\"T_f55ce_row6_col4\" class=\"data row6 col4\" >100.00%</td>\n",
       "    </tr>\n",
       "  </tbody>\n",
       "</table>\n"
      ],
      "text/plain": [
       "<pandas.io.formats.style.Styler at 0x1d63bf05ff0>"
      ]
     },
     "execution_count": 21,
     "metadata": {},
     "output_type": "execute_result"
    }
   ],
   "source": [
    "df.stb.freq(['loan_grade'], style=True)"
   ]
  },
  {
   "cell_type": "code",
   "execution_count": 22,
   "id": "9138f9a5",
   "metadata": {
    "scrolled": false
   },
   "outputs": [
    {
     "data": {
      "text/html": [
       "<style type=\"text/css\">\n",
       "</style>\n",
       "<table id=\"T_76ee1\">\n",
       "  <thead>\n",
       "    <tr>\n",
       "      <th class=\"blank level0\" >&nbsp;</th>\n",
       "      <th id=\"T_76ee1_level0_col0\" class=\"col_heading level0 col0\" >loan_status</th>\n",
       "      <th id=\"T_76ee1_level0_col1\" class=\"col_heading level0 col1\" >loan_grade</th>\n",
       "      <th id=\"T_76ee1_level0_col2\" class=\"col_heading level0 col2\" >count</th>\n",
       "      <th id=\"T_76ee1_level0_col3\" class=\"col_heading level0 col3\" >percent</th>\n",
       "      <th id=\"T_76ee1_level0_col4\" class=\"col_heading level0 col4\" >cumulative_count</th>\n",
       "      <th id=\"T_76ee1_level0_col5\" class=\"col_heading level0 col5\" >cumulative_percent</th>\n",
       "    </tr>\n",
       "  </thead>\n",
       "  <tbody>\n",
       "    <tr>\n",
       "      <th id=\"T_76ee1_level0_row0\" class=\"row_heading level0 row0\" >0</th>\n",
       "      <td id=\"T_76ee1_row0_col0\" class=\"data row0 col0\" >0</td>\n",
       "      <td id=\"T_76ee1_row0_col1\" class=\"data row0 col1\" >A</td>\n",
       "      <td id=\"T_76ee1_row0_col2\" class=\"data row0 col2\" >9,274</td>\n",
       "      <td id=\"T_76ee1_row0_col3\" class=\"data row0 col3\" >29.83%</td>\n",
       "      <td id=\"T_76ee1_row0_col4\" class=\"data row0 col4\" >9,274</td>\n",
       "      <td id=\"T_76ee1_row0_col5\" class=\"data row0 col5\" >29.83%</td>\n",
       "    </tr>\n",
       "    <tr>\n",
       "      <th id=\"T_76ee1_level0_row1\" class=\"row_heading level0 row1\" >1</th>\n",
       "      <td id=\"T_76ee1_row1_col0\" class=\"data row1 col0\" >0</td>\n",
       "      <td id=\"T_76ee1_row1_col1\" class=\"data row1 col1\" >B</td>\n",
       "      <td id=\"T_76ee1_row1_col2\" class=\"data row1 col2\" >8,245</td>\n",
       "      <td id=\"T_76ee1_row1_col3\" class=\"data row1 col3\" >26.52%</td>\n",
       "      <td id=\"T_76ee1_row1_col4\" class=\"data row1 col4\" >17,519</td>\n",
       "      <td id=\"T_76ee1_row1_col5\" class=\"data row1 col5\" >56.34%</td>\n",
       "    </tr>\n",
       "    <tr>\n",
       "      <th id=\"T_76ee1_level0_row2\" class=\"row_heading level0 row2\" >2</th>\n",
       "      <td id=\"T_76ee1_row2_col0\" class=\"data row2 col0\" >0</td>\n",
       "      <td id=\"T_76ee1_row2_col1\" class=\"data row2 col1\" >C</td>\n",
       "      <td id=\"T_76ee1_row2_col2\" class=\"data row2 col2\" >4,860</td>\n",
       "      <td id=\"T_76ee1_row2_col3\" class=\"data row2 col3\" >15.63%</td>\n",
       "      <td id=\"T_76ee1_row2_col4\" class=\"data row2 col4\" >22,379</td>\n",
       "      <td id=\"T_76ee1_row2_col5\" class=\"data row2 col5\" >71.97%</td>\n",
       "    </tr>\n",
       "    <tr>\n",
       "      <th id=\"T_76ee1_level0_row3\" class=\"row_heading level0 row3\" >3</th>\n",
       "      <td id=\"T_76ee1_row3_col0\" class=\"data row3 col0\" >1</td>\n",
       "      <td id=\"T_76ee1_row3_col1\" class=\"data row3 col1\" >D</td>\n",
       "      <td id=\"T_76ee1_row3_col2\" class=\"data row3 col2\" >2,077</td>\n",
       "      <td id=\"T_76ee1_row3_col3\" class=\"data row3 col3\" >6.68%</td>\n",
       "      <td id=\"T_76ee1_row3_col4\" class=\"data row3 col4\" >24,456</td>\n",
       "      <td id=\"T_76ee1_row3_col5\" class=\"data row3 col5\" >78.65%</td>\n",
       "    </tr>\n",
       "    <tr>\n",
       "      <th id=\"T_76ee1_level0_row4\" class=\"row_heading level0 row4\" >4</th>\n",
       "      <td id=\"T_76ee1_row4_col0\" class=\"data row4 col0\" >1</td>\n",
       "      <td id=\"T_76ee1_row4_col1\" class=\"data row4 col1\" >B</td>\n",
       "      <td id=\"T_76ee1_row4_col2\" class=\"data row4 col2\" >1,677</td>\n",
       "      <td id=\"T_76ee1_row4_col3\" class=\"data row4 col3\" >5.39%</td>\n",
       "      <td id=\"T_76ee1_row4_col4\" class=\"data row4 col4\" >26,133</td>\n",
       "      <td id=\"T_76ee1_row4_col5\" class=\"data row4 col5\" >84.05%</td>\n",
       "    </tr>\n",
       "    <tr>\n",
       "      <th id=\"T_76ee1_level0_row5\" class=\"row_heading level0 row5\" >5</th>\n",
       "      <td id=\"T_76ee1_row5_col0\" class=\"data row5 col0\" >0</td>\n",
       "      <td id=\"T_76ee1_row5_col1\" class=\"data row5 col1\" >D</td>\n",
       "      <td id=\"T_76ee1_row5_col2\" class=\"data row5 col2\" >1,381</td>\n",
       "      <td id=\"T_76ee1_row5_col3\" class=\"data row5 col3\" >4.44%</td>\n",
       "      <td id=\"T_76ee1_row5_col4\" class=\"data row5 col4\" >27,514</td>\n",
       "      <td id=\"T_76ee1_row5_col5\" class=\"data row5 col5\" >88.49%</td>\n",
       "    </tr>\n",
       "    <tr>\n",
       "      <th id=\"T_76ee1_level0_row6\" class=\"row_heading level0 row6\" >6</th>\n",
       "      <td id=\"T_76ee1_row6_col0\" class=\"data row6 col0\" >1</td>\n",
       "      <td id=\"T_76ee1_row6_col1\" class=\"data row6 col1\" >C</td>\n",
       "      <td id=\"T_76ee1_row6_col2\" class=\"data row6 col2\" >1,331</td>\n",
       "      <td id=\"T_76ee1_row6_col3\" class=\"data row6 col3\" >4.28%</td>\n",
       "      <td id=\"T_76ee1_row6_col4\" class=\"data row6 col4\" >28,845</td>\n",
       "      <td id=\"T_76ee1_row6_col5\" class=\"data row6 col5\" >92.77%</td>\n",
       "    </tr>\n",
       "    <tr>\n",
       "      <th id=\"T_76ee1_level0_row7\" class=\"row_heading level0 row7\" >7</th>\n",
       "      <td id=\"T_76ee1_row7_col0\" class=\"data row7 col0\" >1</td>\n",
       "      <td id=\"T_76ee1_row7_col1\" class=\"data row7 col1\" >A</td>\n",
       "      <td id=\"T_76ee1_row7_col2\" class=\"data row7 col2\" >1,069</td>\n",
       "      <td id=\"T_76ee1_row7_col3\" class=\"data row7 col3\" >3.44%</td>\n",
       "      <td id=\"T_76ee1_row7_col4\" class=\"data row7 col4\" >29,914</td>\n",
       "      <td id=\"T_76ee1_row7_col5\" class=\"data row7 col5\" >96.21%</td>\n",
       "    </tr>\n",
       "    <tr>\n",
       "      <th id=\"T_76ee1_level0_row8\" class=\"row_heading level0 row8\" >8</th>\n",
       "      <td id=\"T_76ee1_row8_col0\" class=\"data row8 col0\" >1</td>\n",
       "      <td id=\"T_76ee1_row8_col1\" class=\"data row8 col1\" >E</td>\n",
       "      <td id=\"T_76ee1_row8_col2\" class=\"data row8 col2\" >590</td>\n",
       "      <td id=\"T_76ee1_row8_col3\" class=\"data row8 col3\" >1.90%</td>\n",
       "      <td id=\"T_76ee1_row8_col4\" class=\"data row8 col4\" >30,504</td>\n",
       "      <td id=\"T_76ee1_row8_col5\" class=\"data row8 col5\" >98.10%</td>\n",
       "    </tr>\n",
       "    <tr>\n",
       "      <th id=\"T_76ee1_level0_row9\" class=\"row_heading level0 row9\" >9</th>\n",
       "      <td id=\"T_76ee1_row9_col0\" class=\"data row9 col0\" >0</td>\n",
       "      <td id=\"T_76ee1_row9_col1\" class=\"data row9 col1\" >E</td>\n",
       "      <td id=\"T_76ee1_row9_col2\" class=\"data row9 col2\" >309</td>\n",
       "      <td id=\"T_76ee1_row9_col3\" class=\"data row9 col3\" >0.99%</td>\n",
       "      <td id=\"T_76ee1_row9_col4\" class=\"data row9 col4\" >30,813</td>\n",
       "      <td id=\"T_76ee1_row9_col5\" class=\"data row9 col5\" >99.10%</td>\n",
       "    </tr>\n",
       "    <tr>\n",
       "      <th id=\"T_76ee1_level0_row10\" class=\"row_heading level0 row10\" >10</th>\n",
       "      <td id=\"T_76ee1_row10_col0\" class=\"data row10 col0\" >1</td>\n",
       "      <td id=\"T_76ee1_row10_col1\" class=\"data row10 col1\" >F</td>\n",
       "      <td id=\"T_76ee1_row10_col2\" class=\"data row10 col2\" >159</td>\n",
       "      <td id=\"T_76ee1_row10_col3\" class=\"data row10 col3\" >0.51%</td>\n",
       "      <td id=\"T_76ee1_row10_col4\" class=\"data row10 col4\" >30,972</td>\n",
       "      <td id=\"T_76ee1_row10_col5\" class=\"data row10 col5\" >99.61%</td>\n",
       "    </tr>\n",
       "    <tr>\n",
       "      <th id=\"T_76ee1_level0_row11\" class=\"row_heading level0 row11\" >11</th>\n",
       "      <td id=\"T_76ee1_row11_col0\" class=\"data row11 col0\" >0</td>\n",
       "      <td id=\"T_76ee1_row11_col1\" class=\"data row11 col1\" >F</td>\n",
       "      <td id=\"T_76ee1_row11_col2\" class=\"data row11 col2\" >62</td>\n",
       "      <td id=\"T_76ee1_row11_col3\" class=\"data row11 col3\" >0.20%</td>\n",
       "      <td id=\"T_76ee1_row11_col4\" class=\"data row11 col4\" >31,034</td>\n",
       "      <td id=\"T_76ee1_row11_col5\" class=\"data row11 col5\" >99.81%</td>\n",
       "    </tr>\n",
       "    <tr>\n",
       "      <th id=\"T_76ee1_level0_row12\" class=\"row_heading level0 row12\" >12</th>\n",
       "      <td id=\"T_76ee1_row12_col0\" class=\"data row12 col0\" >1</td>\n",
       "      <td id=\"T_76ee1_row12_col1\" class=\"data row12 col1\" >G</td>\n",
       "      <td id=\"T_76ee1_row12_col2\" class=\"data row12 col2\" >59</td>\n",
       "      <td id=\"T_76ee1_row12_col3\" class=\"data row12 col3\" >0.19%</td>\n",
       "      <td id=\"T_76ee1_row12_col4\" class=\"data row12 col4\" >31,093</td>\n",
       "      <td id=\"T_76ee1_row12_col5\" class=\"data row12 col5\" >100.00%</td>\n",
       "    </tr>\n",
       "    <tr>\n",
       "      <th id=\"T_76ee1_level0_row13\" class=\"row_heading level0 row13\" >13</th>\n",
       "      <td id=\"T_76ee1_row13_col0\" class=\"data row13 col0\" >0</td>\n",
       "      <td id=\"T_76ee1_row13_col1\" class=\"data row13 col1\" >G</td>\n",
       "      <td id=\"T_76ee1_row13_col2\" class=\"data row13 col2\" >1</td>\n",
       "      <td id=\"T_76ee1_row13_col3\" class=\"data row13 col3\" >0.00%</td>\n",
       "      <td id=\"T_76ee1_row13_col4\" class=\"data row13 col4\" >31,094</td>\n",
       "      <td id=\"T_76ee1_row13_col5\" class=\"data row13 col5\" >100.00%</td>\n",
       "    </tr>\n",
       "  </tbody>\n",
       "</table>\n"
      ],
      "text/plain": [
       "<pandas.io.formats.style.Styler at 0x1d63bf06500>"
      ]
     },
     "execution_count": 22,
     "metadata": {},
     "output_type": "execute_result"
    }
   ],
   "source": [
    "df.stb.freq(['loan_status','loan_grade'], style=True)"
   ]
  },
  {
   "cell_type": "markdown",
   "id": "687e2001",
   "metadata": {},
   "source": [
    "### Verificado que não temos informação exata de como tratar a grade do empréstimo e não possuí uma influência no empréstimo, tendo em vista que mais de 33% são da grade A, porém apenas pouco mais de 3% do empréstimos solicitados para a grade A são aceitos."
   ]
  },
  {
   "cell_type": "code",
   "execution_count": 23,
   "id": "dbbf4f1c",
   "metadata": {},
   "outputs": [],
   "source": [
    "df = df.drop('loan_grade', axis = 1)"
   ]
  },
  {
   "cell_type": "code",
   "execution_count": 24,
   "id": "ed779982",
   "metadata": {},
   "outputs": [
    {
     "data": {
      "text/html": [
       "<style type=\"text/css\">\n",
       "</style>\n",
       "<table id=\"T_883bd\">\n",
       "  <thead>\n",
       "    <tr>\n",
       "      <th class=\"blank level0\" >&nbsp;</th>\n",
       "      <th id=\"T_883bd_level0_col0\" class=\"col_heading level0 col0\" >cb_person_default_on_file</th>\n",
       "      <th id=\"T_883bd_level0_col1\" class=\"col_heading level0 col1\" >count</th>\n",
       "      <th id=\"T_883bd_level0_col2\" class=\"col_heading level0 col2\" >percent</th>\n",
       "      <th id=\"T_883bd_level0_col3\" class=\"col_heading level0 col3\" >cumulative_count</th>\n",
       "      <th id=\"T_883bd_level0_col4\" class=\"col_heading level0 col4\" >cumulative_percent</th>\n",
       "    </tr>\n",
       "  </thead>\n",
       "  <tbody>\n",
       "    <tr>\n",
       "      <th id=\"T_883bd_level0_row0\" class=\"row_heading level0 row0\" >0</th>\n",
       "      <td id=\"T_883bd_row0_col0\" class=\"data row0 col0\" >N</td>\n",
       "      <td id=\"T_883bd_row0_col1\" class=\"data row0 col1\" >25,624</td>\n",
       "      <td id=\"T_883bd_row0_col2\" class=\"data row0 col2\" >82.41%</td>\n",
       "      <td id=\"T_883bd_row0_col3\" class=\"data row0 col3\" >25,624</td>\n",
       "      <td id=\"T_883bd_row0_col4\" class=\"data row0 col4\" >82.41%</td>\n",
       "    </tr>\n",
       "    <tr>\n",
       "      <th id=\"T_883bd_level0_row1\" class=\"row_heading level0 row1\" >1</th>\n",
       "      <td id=\"T_883bd_row1_col0\" class=\"data row1 col0\" >Y</td>\n",
       "      <td id=\"T_883bd_row1_col1\" class=\"data row1 col1\" >5,470</td>\n",
       "      <td id=\"T_883bd_row1_col2\" class=\"data row1 col2\" >17.59%</td>\n",
       "      <td id=\"T_883bd_row1_col3\" class=\"data row1 col3\" >31,094</td>\n",
       "      <td id=\"T_883bd_row1_col4\" class=\"data row1 col4\" >100.00%</td>\n",
       "    </tr>\n",
       "  </tbody>\n",
       "</table>\n"
      ],
      "text/plain": [
       "<pandas.io.formats.style.Styler at 0x1d63bf05450>"
      ]
     },
     "execution_count": 24,
     "metadata": {},
     "output_type": "execute_result"
    }
   ],
   "source": [
    "df.stb.freq(['cb_person_default_on_file'], style=True)"
   ]
  },
  {
   "cell_type": "code",
   "execution_count": 25,
   "id": "468ad50d",
   "metadata": {},
   "outputs": [
    {
     "data": {
      "text/html": [
       "<style type=\"text/css\">\n",
       "</style>\n",
       "<table id=\"T_ae4dc\">\n",
       "  <thead>\n",
       "    <tr>\n",
       "      <th class=\"blank level0\" >&nbsp;</th>\n",
       "      <th id=\"T_ae4dc_level0_col0\" class=\"col_heading level0 col0\" >loan_status</th>\n",
       "      <th id=\"T_ae4dc_level0_col1\" class=\"col_heading level0 col1\" >cb_person_default_on_file</th>\n",
       "      <th id=\"T_ae4dc_level0_col2\" class=\"col_heading level0 col2\" >count</th>\n",
       "      <th id=\"T_ae4dc_level0_col3\" class=\"col_heading level0 col3\" >percent</th>\n",
       "      <th id=\"T_ae4dc_level0_col4\" class=\"col_heading level0 col4\" >cumulative_count</th>\n",
       "      <th id=\"T_ae4dc_level0_col5\" class=\"col_heading level0 col5\" >cumulative_percent</th>\n",
       "    </tr>\n",
       "  </thead>\n",
       "  <tbody>\n",
       "    <tr>\n",
       "      <th id=\"T_ae4dc_level0_row0\" class=\"row_heading level0 row0\" >0</th>\n",
       "      <td id=\"T_ae4dc_row0_col0\" class=\"data row0 col0\" >0</td>\n",
       "      <td id=\"T_ae4dc_row0_col1\" class=\"data row0 col1\" >N</td>\n",
       "      <td id=\"T_ae4dc_row0_col2\" class=\"data row0 col2\" >20,772</td>\n",
       "      <td id=\"T_ae4dc_row0_col3\" class=\"data row0 col3\" >66.80%</td>\n",
       "      <td id=\"T_ae4dc_row0_col4\" class=\"data row0 col4\" >20,772</td>\n",
       "      <td id=\"T_ae4dc_row0_col5\" class=\"data row0 col5\" >66.80%</td>\n",
       "    </tr>\n",
       "    <tr>\n",
       "      <th id=\"T_ae4dc_level0_row1\" class=\"row_heading level0 row1\" >1</th>\n",
       "      <td id=\"T_ae4dc_row1_col0\" class=\"data row1 col0\" >1</td>\n",
       "      <td id=\"T_ae4dc_row1_col1\" class=\"data row1 col1\" >N</td>\n",
       "      <td id=\"T_ae4dc_row1_col2\" class=\"data row1 col2\" >4,852</td>\n",
       "      <td id=\"T_ae4dc_row1_col3\" class=\"data row1 col3\" >15.60%</td>\n",
       "      <td id=\"T_ae4dc_row1_col4\" class=\"data row1 col4\" >25,624</td>\n",
       "      <td id=\"T_ae4dc_row1_col5\" class=\"data row1 col5\" >82.41%</td>\n",
       "    </tr>\n",
       "    <tr>\n",
       "      <th id=\"T_ae4dc_level0_row2\" class=\"row_heading level0 row2\" >2</th>\n",
       "      <td id=\"T_ae4dc_row2_col0\" class=\"data row2 col0\" >0</td>\n",
       "      <td id=\"T_ae4dc_row2_col1\" class=\"data row2 col1\" >Y</td>\n",
       "      <td id=\"T_ae4dc_row2_col2\" class=\"data row2 col2\" >3,360</td>\n",
       "      <td id=\"T_ae4dc_row2_col3\" class=\"data row2 col3\" >10.81%</td>\n",
       "      <td id=\"T_ae4dc_row2_col4\" class=\"data row2 col4\" >28,984</td>\n",
       "      <td id=\"T_ae4dc_row2_col5\" class=\"data row2 col5\" >93.21%</td>\n",
       "    </tr>\n",
       "    <tr>\n",
       "      <th id=\"T_ae4dc_level0_row3\" class=\"row_heading level0 row3\" >3</th>\n",
       "      <td id=\"T_ae4dc_row3_col0\" class=\"data row3 col0\" >1</td>\n",
       "      <td id=\"T_ae4dc_row3_col1\" class=\"data row3 col1\" >Y</td>\n",
       "      <td id=\"T_ae4dc_row3_col2\" class=\"data row3 col2\" >2,110</td>\n",
       "      <td id=\"T_ae4dc_row3_col3\" class=\"data row3 col3\" >6.79%</td>\n",
       "      <td id=\"T_ae4dc_row3_col4\" class=\"data row3 col4\" >31,094</td>\n",
       "      <td id=\"T_ae4dc_row3_col5\" class=\"data row3 col5\" >100.00%</td>\n",
       "    </tr>\n",
       "  </tbody>\n",
       "</table>\n"
      ],
      "text/plain": [
       "<pandas.io.formats.style.Styler at 0x1d63bf07940>"
      ]
     },
     "execution_count": 25,
     "metadata": {},
     "output_type": "execute_result"
    }
   ],
   "source": [
    "df.stb.freq(['loan_status','cb_person_default_on_file'], style=True)"
   ]
  },
  {
   "cell_type": "markdown",
   "id": "0bbda7f2",
   "metadata": {},
   "source": [
    "### Verificado que a feature cb_person_default_on_file parece influenciar na decisão do empréstimo, pois apenas 15% das pessoas que não tem histórico conseguiu empréstimo"
   ]
  },
  {
   "cell_type": "markdown",
   "id": "d8ae2889",
   "metadata": {},
   "source": [
    "### Aplicando o escalonamento"
   ]
  },
  {
   "cell_type": "code",
   "execution_count": 26,
   "id": "8963c1d5",
   "metadata": {},
   "outputs": [
    {
     "data": {
      "text/plain": [
       "(31094, 11)"
      ]
     },
     "execution_count": 26,
     "metadata": {},
     "output_type": "execute_result"
    }
   ],
   "source": [
    "df.shape"
   ]
  },
  {
   "cell_type": "code",
   "execution_count": 27,
   "id": "ba2a34ba",
   "metadata": {},
   "outputs": [],
   "source": [
    "scaler = StandardScaler()\n",
    "df_scaler = scaler.fit_transform(df[['person_age','person_income','person_emp_length','loan_amnt','loan_int_rate','loan_percent_income']])\n",
    "df_scaler = pd.DataFrame(df_scaler, columns=['person_age','person_income','person_emp_length','loan_amnt','loan_int_rate','loan_percent_income'])\n",
    "df = df.drop(['person_age','person_income','person_emp_length','loan_amnt','loan_int_rate','loan_percent_income'], axis=1)"
   ]
  },
  {
   "cell_type": "code",
   "execution_count": 28,
   "id": "bd4889ca",
   "metadata": {
    "scrolled": true
   },
   "outputs": [
    {
     "data": {
      "text/html": [
       "<div>\n",
       "<style scoped>\n",
       "    .dataframe tbody tr th:only-of-type {\n",
       "        vertical-align: middle;\n",
       "    }\n",
       "\n",
       "    .dataframe tbody tr th {\n",
       "        vertical-align: top;\n",
       "    }\n",
       "\n",
       "    .dataframe thead th {\n",
       "        text-align: right;\n",
       "    }\n",
       "</style>\n",
       "<table border=\"1\" class=\"dataframe\">\n",
       "  <thead>\n",
       "    <tr style=\"text-align: right;\">\n",
       "      <th></th>\n",
       "      <th>person_home_ownership</th>\n",
       "      <th>loan_intent</th>\n",
       "      <th>loan_status</th>\n",
       "      <th>cb_person_default_on_file</th>\n",
       "      <th>cb_person_cred_hist_length</th>\n",
       "      <th>person_age</th>\n",
       "      <th>person_income</th>\n",
       "      <th>person_emp_length</th>\n",
       "      <th>loan_amnt</th>\n",
       "      <th>loan_int_rate</th>\n",
       "      <th>loan_percent_income</th>\n",
       "    </tr>\n",
       "  </thead>\n",
       "  <tbody>\n",
       "    <tr>\n",
       "      <th>0</th>\n",
       "      <td>OWN</td>\n",
       "      <td>EDUCATION</td>\n",
       "      <td>0</td>\n",
       "      <td>N</td>\n",
       "      <td>2</td>\n",
       "      <td>-1.072125</td>\n",
       "      <td>-1.784326</td>\n",
       "      <td>0.074722</td>\n",
       "      <td>-1.373019</td>\n",
       "      <td>0.044531</td>\n",
       "      <td>-0.694323</td>\n",
       "    </tr>\n",
       "    <tr>\n",
       "      <th>1</th>\n",
       "      <td>MORTGAGE</td>\n",
       "      <td>MEDICAL</td>\n",
       "      <td>1</td>\n",
       "      <td>N</td>\n",
       "      <td>3</td>\n",
       "      <td>-0.421657</td>\n",
       "      <td>-1.784326</td>\n",
       "      <td>-0.935828</td>\n",
       "      <td>-0.627550</td>\n",
       "      <td>0.579077</td>\n",
       "      <td>3.697255</td>\n",
       "    </tr>\n",
       "    <tr>\n",
       "      <th>2</th>\n",
       "      <td>RENT</td>\n",
       "      <td>MEDICAL</td>\n",
       "      <td>1</td>\n",
       "      <td>N</td>\n",
       "      <td>2</td>\n",
       "      <td>-0.746891</td>\n",
       "      <td>0.246964</td>\n",
       "      <td>-0.177916</td>\n",
       "      <td>4.259412</td>\n",
       "      <td>1.308284</td>\n",
       "      <td>3.323504</td>\n",
       "    </tr>\n",
       "    <tr>\n",
       "      <th>3</th>\n",
       "      <td>RENT</td>\n",
       "      <td>MEDICAL</td>\n",
       "      <td>1</td>\n",
       "      <td>Y</td>\n",
       "      <td>4</td>\n",
       "      <td>-0.584274</td>\n",
       "      <td>-0.156387</td>\n",
       "      <td>0.832634</td>\n",
       "      <td>4.259412</td>\n",
       "      <td>1.011657</td>\n",
       "      <td>3.510379</td>\n",
       "    </tr>\n",
       "    <tr>\n",
       "      <th>4</th>\n",
       "      <td>OWN</td>\n",
       "      <td>VENTURE</td>\n",
       "      <td>1</td>\n",
       "      <td>N</td>\n",
       "      <td>2</td>\n",
       "      <td>-1.072125</td>\n",
       "      <td>-1.773425</td>\n",
       "      <td>-0.683191</td>\n",
       "      <td>-1.124529</td>\n",
       "      <td>-1.191414</td>\n",
       "      <td>0.707245</td>\n",
       "    </tr>\n",
       "  </tbody>\n",
       "</table>\n",
       "</div>"
      ],
      "text/plain": [
       "  person_home_ownership loan_intent  loan_status cb_person_default_on_file  \\\n",
       "0                   OWN   EDUCATION            0                         N   \n",
       "1              MORTGAGE     MEDICAL            1                         N   \n",
       "2                  RENT     MEDICAL            1                         N   \n",
       "3                  RENT     MEDICAL            1                         Y   \n",
       "4                   OWN     VENTURE            1                         N   \n",
       "\n",
       "   cb_person_cred_hist_length  person_age  person_income  person_emp_length  \\\n",
       "0                           2   -1.072125      -1.784326           0.074722   \n",
       "1                           3   -0.421657      -1.784326          -0.935828   \n",
       "2                           2   -0.746891       0.246964          -0.177916   \n",
       "3                           4   -0.584274      -0.156387           0.832634   \n",
       "4                           2   -1.072125      -1.773425          -0.683191   \n",
       "\n",
       "   loan_amnt  loan_int_rate  loan_percent_income  \n",
       "0  -1.373019       0.044531            -0.694323  \n",
       "1  -0.627550       0.579077             3.697255  \n",
       "2   4.259412       1.308284             3.323504  \n",
       "3   4.259412       1.011657             3.510379  \n",
       "4  -1.124529      -1.191414             0.707245  "
      ]
     },
     "execution_count": 28,
     "metadata": {},
     "output_type": "execute_result"
    }
   ],
   "source": [
    "df.reset_index(inplace = True, drop = True)\n",
    "df_scaler.reset_index(inplace = True, drop = True)\n",
    "df_final = pd.concat([df, df_scaler], axis=1)\n",
    "df_final.head()"
   ]
  },
  {
   "cell_type": "markdown",
   "id": "4d8840db",
   "metadata": {},
   "source": [
    "### Tratando valores missing"
   ]
  },
  {
   "cell_type": "code",
   "execution_count": 29,
   "id": "b86503f5",
   "metadata": {},
   "outputs": [
    {
     "data": {
      "text/html": [
       "<style type=\"text/css\">\n",
       "</style>\n",
       "<table id=\"T_a80d8\">\n",
       "  <thead>\n",
       "    <tr>\n",
       "      <th class=\"blank level0\" >&nbsp;</th>\n",
       "      <th id=\"T_a80d8_level0_col0\" class=\"col_heading level0 col0\" >missing</th>\n",
       "      <th id=\"T_a80d8_level0_col1\" class=\"col_heading level0 col1\" >total</th>\n",
       "      <th id=\"T_a80d8_level0_col2\" class=\"col_heading level0 col2\" >percent</th>\n",
       "    </tr>\n",
       "  </thead>\n",
       "  <tbody>\n",
       "    <tr>\n",
       "      <th id=\"T_a80d8_level0_row0\" class=\"row_heading level0 row0\" >loan_int_rate</th>\n",
       "      <td id=\"T_a80d8_row0_col0\" class=\"data row0 col0\" >2,977</td>\n",
       "      <td id=\"T_a80d8_row0_col1\" class=\"data row0 col1\" >31,094</td>\n",
       "      <td id=\"T_a80d8_row0_col2\" class=\"data row0 col2\" >9.57%</td>\n",
       "    </tr>\n",
       "    <tr>\n",
       "      <th id=\"T_a80d8_level0_row1\" class=\"row_heading level0 row1\" >person_emp_length</th>\n",
       "      <td id=\"T_a80d8_row1_col0\" class=\"data row1 col0\" >881</td>\n",
       "      <td id=\"T_a80d8_row1_col1\" class=\"data row1 col1\" >31,094</td>\n",
       "      <td id=\"T_a80d8_row1_col2\" class=\"data row1 col2\" >2.83%</td>\n",
       "    </tr>\n",
       "    <tr>\n",
       "      <th id=\"T_a80d8_level0_row2\" class=\"row_heading level0 row2\" >person_home_ownership</th>\n",
       "      <td id=\"T_a80d8_row2_col0\" class=\"data row2 col0\" >0</td>\n",
       "      <td id=\"T_a80d8_row2_col1\" class=\"data row2 col1\" >31,094</td>\n",
       "      <td id=\"T_a80d8_row2_col2\" class=\"data row2 col2\" >0.00%</td>\n",
       "    </tr>\n",
       "    <tr>\n",
       "      <th id=\"T_a80d8_level0_row3\" class=\"row_heading level0 row3\" >loan_intent</th>\n",
       "      <td id=\"T_a80d8_row3_col0\" class=\"data row3 col0\" >0</td>\n",
       "      <td id=\"T_a80d8_row3_col1\" class=\"data row3 col1\" >31,094</td>\n",
       "      <td id=\"T_a80d8_row3_col2\" class=\"data row3 col2\" >0.00%</td>\n",
       "    </tr>\n",
       "    <tr>\n",
       "      <th id=\"T_a80d8_level0_row4\" class=\"row_heading level0 row4\" >loan_status</th>\n",
       "      <td id=\"T_a80d8_row4_col0\" class=\"data row4 col0\" >0</td>\n",
       "      <td id=\"T_a80d8_row4_col1\" class=\"data row4 col1\" >31,094</td>\n",
       "      <td id=\"T_a80d8_row4_col2\" class=\"data row4 col2\" >0.00%</td>\n",
       "    </tr>\n",
       "    <tr>\n",
       "      <th id=\"T_a80d8_level0_row5\" class=\"row_heading level0 row5\" >cb_person_default_on_file</th>\n",
       "      <td id=\"T_a80d8_row5_col0\" class=\"data row5 col0\" >0</td>\n",
       "      <td id=\"T_a80d8_row5_col1\" class=\"data row5 col1\" >31,094</td>\n",
       "      <td id=\"T_a80d8_row5_col2\" class=\"data row5 col2\" >0.00%</td>\n",
       "    </tr>\n",
       "    <tr>\n",
       "      <th id=\"T_a80d8_level0_row6\" class=\"row_heading level0 row6\" >cb_person_cred_hist_length</th>\n",
       "      <td id=\"T_a80d8_row6_col0\" class=\"data row6 col0\" >0</td>\n",
       "      <td id=\"T_a80d8_row6_col1\" class=\"data row6 col1\" >31,094</td>\n",
       "      <td id=\"T_a80d8_row6_col2\" class=\"data row6 col2\" >0.00%</td>\n",
       "    </tr>\n",
       "    <tr>\n",
       "      <th id=\"T_a80d8_level0_row7\" class=\"row_heading level0 row7\" >person_age</th>\n",
       "      <td id=\"T_a80d8_row7_col0\" class=\"data row7 col0\" >0</td>\n",
       "      <td id=\"T_a80d8_row7_col1\" class=\"data row7 col1\" >31,094</td>\n",
       "      <td id=\"T_a80d8_row7_col2\" class=\"data row7 col2\" >0.00%</td>\n",
       "    </tr>\n",
       "    <tr>\n",
       "      <th id=\"T_a80d8_level0_row8\" class=\"row_heading level0 row8\" >person_income</th>\n",
       "      <td id=\"T_a80d8_row8_col0\" class=\"data row8 col0\" >0</td>\n",
       "      <td id=\"T_a80d8_row8_col1\" class=\"data row8 col1\" >31,094</td>\n",
       "      <td id=\"T_a80d8_row8_col2\" class=\"data row8 col2\" >0.00%</td>\n",
       "    </tr>\n",
       "    <tr>\n",
       "      <th id=\"T_a80d8_level0_row9\" class=\"row_heading level0 row9\" >loan_amnt</th>\n",
       "      <td id=\"T_a80d8_row9_col0\" class=\"data row9 col0\" >0</td>\n",
       "      <td id=\"T_a80d8_row9_col1\" class=\"data row9 col1\" >31,094</td>\n",
       "      <td id=\"T_a80d8_row9_col2\" class=\"data row9 col2\" >0.00%</td>\n",
       "    </tr>\n",
       "    <tr>\n",
       "      <th id=\"T_a80d8_level0_row10\" class=\"row_heading level0 row10\" >loan_percent_income</th>\n",
       "      <td id=\"T_a80d8_row10_col0\" class=\"data row10 col0\" >0</td>\n",
       "      <td id=\"T_a80d8_row10_col1\" class=\"data row10 col1\" >31,094</td>\n",
       "      <td id=\"T_a80d8_row10_col2\" class=\"data row10 col2\" >0.00%</td>\n",
       "    </tr>\n",
       "  </tbody>\n",
       "</table>\n"
      ],
      "text/plain": [
       "<pandas.io.formats.style.Styler at 0x1d63bf073a0>"
      ]
     },
     "execution_count": 29,
     "metadata": {},
     "output_type": "execute_result"
    }
   ],
   "source": [
    "df_final.stb.missing(style=True)"
   ]
  },
  {
   "cell_type": "code",
   "execution_count": 30,
   "id": "81a3b02b",
   "metadata": {},
   "outputs": [],
   "source": [
    "df_final['loan_int_rate'] = df_final['loan_int_rate'].fillna(df_final['loan_int_rate'].median())\n",
    "df_final['person_emp_length'] = df_final['person_emp_length'].fillna(df_final['person_emp_length'].median())"
   ]
  },
  {
   "cell_type": "markdown",
   "id": "5ab08839",
   "metadata": {},
   "source": [
    "### Transformando em binário a feature default_history"
   ]
  },
  {
   "cell_type": "code",
   "execution_count": 31,
   "id": "d90c17fe",
   "metadata": {},
   "outputs": [],
   "source": [
    "df_final['default_history'] = np.where(df_final['cb_person_default_on_file'] == 'N',0,1)\n",
    "\n",
    "df_final = df_final.drop('cb_person_default_on_file',axis=1)"
   ]
  },
  {
   "cell_type": "code",
   "execution_count": 32,
   "id": "578fb714",
   "metadata": {
    "scrolled": true
   },
   "outputs": [
    {
     "data": {
      "text/html": [
       "<div>\n",
       "<style scoped>\n",
       "    .dataframe tbody tr th:only-of-type {\n",
       "        vertical-align: middle;\n",
       "    }\n",
       "\n",
       "    .dataframe tbody tr th {\n",
       "        vertical-align: top;\n",
       "    }\n",
       "\n",
       "    .dataframe thead th {\n",
       "        text-align: right;\n",
       "    }\n",
       "</style>\n",
       "<table border=\"1\" class=\"dataframe\">\n",
       "  <thead>\n",
       "    <tr style=\"text-align: right;\">\n",
       "      <th></th>\n",
       "      <th>person_home_ownership</th>\n",
       "      <th>loan_intent</th>\n",
       "      <th>loan_status</th>\n",
       "      <th>cb_person_cred_hist_length</th>\n",
       "      <th>person_age</th>\n",
       "      <th>person_income</th>\n",
       "      <th>person_emp_length</th>\n",
       "      <th>loan_amnt</th>\n",
       "      <th>loan_int_rate</th>\n",
       "      <th>loan_percent_income</th>\n",
       "      <th>default_history</th>\n",
       "    </tr>\n",
       "  </thead>\n",
       "  <tbody>\n",
       "    <tr>\n",
       "      <th>0</th>\n",
       "      <td>OWN</td>\n",
       "      <td>EDUCATION</td>\n",
       "      <td>0</td>\n",
       "      <td>2</td>\n",
       "      <td>-1.072125</td>\n",
       "      <td>-1.784326</td>\n",
       "      <td>0.074722</td>\n",
       "      <td>-1.373019</td>\n",
       "      <td>0.044531</td>\n",
       "      <td>-0.694323</td>\n",
       "      <td>0</td>\n",
       "    </tr>\n",
       "    <tr>\n",
       "      <th>1</th>\n",
       "      <td>MORTGAGE</td>\n",
       "      <td>MEDICAL</td>\n",
       "      <td>1</td>\n",
       "      <td>3</td>\n",
       "      <td>-0.421657</td>\n",
       "      <td>-1.784326</td>\n",
       "      <td>-0.935828</td>\n",
       "      <td>-0.627550</td>\n",
       "      <td>0.579077</td>\n",
       "      <td>3.697255</td>\n",
       "      <td>0</td>\n",
       "    </tr>\n",
       "    <tr>\n",
       "      <th>2</th>\n",
       "      <td>RENT</td>\n",
       "      <td>MEDICAL</td>\n",
       "      <td>1</td>\n",
       "      <td>2</td>\n",
       "      <td>-0.746891</td>\n",
       "      <td>0.246964</td>\n",
       "      <td>-0.177916</td>\n",
       "      <td>4.259412</td>\n",
       "      <td>1.308284</td>\n",
       "      <td>3.323504</td>\n",
       "      <td>0</td>\n",
       "    </tr>\n",
       "    <tr>\n",
       "      <th>3</th>\n",
       "      <td>RENT</td>\n",
       "      <td>MEDICAL</td>\n",
       "      <td>1</td>\n",
       "      <td>4</td>\n",
       "      <td>-0.584274</td>\n",
       "      <td>-0.156387</td>\n",
       "      <td>0.832634</td>\n",
       "      <td>4.259412</td>\n",
       "      <td>1.011657</td>\n",
       "      <td>3.510379</td>\n",
       "      <td>1</td>\n",
       "    </tr>\n",
       "    <tr>\n",
       "      <th>4</th>\n",
       "      <td>OWN</td>\n",
       "      <td>VENTURE</td>\n",
       "      <td>1</td>\n",
       "      <td>2</td>\n",
       "      <td>-1.072125</td>\n",
       "      <td>-1.773425</td>\n",
       "      <td>-0.683191</td>\n",
       "      <td>-1.124529</td>\n",
       "      <td>-1.191414</td>\n",
       "      <td>0.707245</td>\n",
       "      <td>0</td>\n",
       "    </tr>\n",
       "  </tbody>\n",
       "</table>\n",
       "</div>"
      ],
      "text/plain": [
       "  person_home_ownership loan_intent  loan_status  cb_person_cred_hist_length  \\\n",
       "0                   OWN   EDUCATION            0                           2   \n",
       "1              MORTGAGE     MEDICAL            1                           3   \n",
       "2                  RENT     MEDICAL            1                           2   \n",
       "3                  RENT     MEDICAL            1                           4   \n",
       "4                   OWN     VENTURE            1                           2   \n",
       "\n",
       "   person_age  person_income  person_emp_length  loan_amnt  loan_int_rate  \\\n",
       "0   -1.072125      -1.784326           0.074722  -1.373019       0.044531   \n",
       "1   -0.421657      -1.784326          -0.935828  -0.627550       0.579077   \n",
       "2   -0.746891       0.246964          -0.177916   4.259412       1.308284   \n",
       "3   -0.584274      -0.156387           0.832634   4.259412       1.011657   \n",
       "4   -1.072125      -1.773425          -0.683191  -1.124529      -1.191414   \n",
       "\n",
       "   loan_percent_income  default_history  \n",
       "0            -0.694323                0  \n",
       "1             3.697255                0  \n",
       "2             3.323504                0  \n",
       "3             3.510379                1  \n",
       "4             0.707245                0  "
      ]
     },
     "execution_count": 32,
     "metadata": {},
     "output_type": "execute_result"
    }
   ],
   "source": [
    "df_final.head()"
   ]
  },
  {
   "cell_type": "markdown",
   "id": "e47e0cc7",
   "metadata": {},
   "source": [
    "### Criando OneHotEncoder para tratar as variáveis categóricas"
   ]
  },
  {
   "cell_type": "code",
   "execution_count": 33,
   "id": "ae76e6d1",
   "metadata": {},
   "outputs": [
    {
     "data": {
      "text/html": [
       "<div>\n",
       "<style scoped>\n",
       "    .dataframe tbody tr th:only-of-type {\n",
       "        vertical-align: middle;\n",
       "    }\n",
       "\n",
       "    .dataframe tbody tr th {\n",
       "        vertical-align: top;\n",
       "    }\n",
       "\n",
       "    .dataframe thead th {\n",
       "        text-align: right;\n",
       "    }\n",
       "</style>\n",
       "<table border=\"1\" class=\"dataframe\">\n",
       "  <thead>\n",
       "    <tr style=\"text-align: right;\">\n",
       "      <th></th>\n",
       "      <th>person_home_ownership_1</th>\n",
       "      <th>person_home_ownership_2</th>\n",
       "      <th>person_home_ownership_3</th>\n",
       "      <th>person_home_ownership_4</th>\n",
       "      <th>loan_intent_1</th>\n",
       "      <th>loan_intent_2</th>\n",
       "      <th>loan_intent_3</th>\n",
       "      <th>loan_intent_4</th>\n",
       "      <th>loan_intent_5</th>\n",
       "      <th>loan_intent_6</th>\n",
       "      <th>loan_status</th>\n",
       "      <th>cb_person_cred_hist_length</th>\n",
       "      <th>person_age</th>\n",
       "      <th>person_income</th>\n",
       "      <th>person_emp_length</th>\n",
       "      <th>loan_amnt</th>\n",
       "      <th>loan_int_rate</th>\n",
       "      <th>loan_percent_income</th>\n",
       "      <th>default_history</th>\n",
       "    </tr>\n",
       "  </thead>\n",
       "  <tbody>\n",
       "    <tr>\n",
       "      <th>0</th>\n",
       "      <td>1</td>\n",
       "      <td>0</td>\n",
       "      <td>0</td>\n",
       "      <td>0</td>\n",
       "      <td>1</td>\n",
       "      <td>0</td>\n",
       "      <td>0</td>\n",
       "      <td>0</td>\n",
       "      <td>0</td>\n",
       "      <td>0</td>\n",
       "      <td>0</td>\n",
       "      <td>2</td>\n",
       "      <td>-1.072125</td>\n",
       "      <td>-1.784326</td>\n",
       "      <td>0.074722</td>\n",
       "      <td>-1.373019</td>\n",
       "      <td>0.044531</td>\n",
       "      <td>-0.694323</td>\n",
       "      <td>0</td>\n",
       "    </tr>\n",
       "    <tr>\n",
       "      <th>1</th>\n",
       "      <td>0</td>\n",
       "      <td>1</td>\n",
       "      <td>0</td>\n",
       "      <td>0</td>\n",
       "      <td>0</td>\n",
       "      <td>1</td>\n",
       "      <td>0</td>\n",
       "      <td>0</td>\n",
       "      <td>0</td>\n",
       "      <td>0</td>\n",
       "      <td>1</td>\n",
       "      <td>3</td>\n",
       "      <td>-0.421657</td>\n",
       "      <td>-1.784326</td>\n",
       "      <td>-0.935828</td>\n",
       "      <td>-0.627550</td>\n",
       "      <td>0.579077</td>\n",
       "      <td>3.697255</td>\n",
       "      <td>0</td>\n",
       "    </tr>\n",
       "    <tr>\n",
       "      <th>2</th>\n",
       "      <td>0</td>\n",
       "      <td>0</td>\n",
       "      <td>1</td>\n",
       "      <td>0</td>\n",
       "      <td>0</td>\n",
       "      <td>1</td>\n",
       "      <td>0</td>\n",
       "      <td>0</td>\n",
       "      <td>0</td>\n",
       "      <td>0</td>\n",
       "      <td>1</td>\n",
       "      <td>2</td>\n",
       "      <td>-0.746891</td>\n",
       "      <td>0.246964</td>\n",
       "      <td>-0.177916</td>\n",
       "      <td>4.259412</td>\n",
       "      <td>1.308284</td>\n",
       "      <td>3.323504</td>\n",
       "      <td>0</td>\n",
       "    </tr>\n",
       "    <tr>\n",
       "      <th>3</th>\n",
       "      <td>0</td>\n",
       "      <td>0</td>\n",
       "      <td>1</td>\n",
       "      <td>0</td>\n",
       "      <td>0</td>\n",
       "      <td>1</td>\n",
       "      <td>0</td>\n",
       "      <td>0</td>\n",
       "      <td>0</td>\n",
       "      <td>0</td>\n",
       "      <td>1</td>\n",
       "      <td>4</td>\n",
       "      <td>-0.584274</td>\n",
       "      <td>-0.156387</td>\n",
       "      <td>0.832634</td>\n",
       "      <td>4.259412</td>\n",
       "      <td>1.011657</td>\n",
       "      <td>3.510379</td>\n",
       "      <td>1</td>\n",
       "    </tr>\n",
       "    <tr>\n",
       "      <th>4</th>\n",
       "      <td>1</td>\n",
       "      <td>0</td>\n",
       "      <td>0</td>\n",
       "      <td>0</td>\n",
       "      <td>0</td>\n",
       "      <td>0</td>\n",
       "      <td>1</td>\n",
       "      <td>0</td>\n",
       "      <td>0</td>\n",
       "      <td>0</td>\n",
       "      <td>1</td>\n",
       "      <td>2</td>\n",
       "      <td>-1.072125</td>\n",
       "      <td>-1.773425</td>\n",
       "      <td>-0.683191</td>\n",
       "      <td>-1.124529</td>\n",
       "      <td>-1.191414</td>\n",
       "      <td>0.707245</td>\n",
       "      <td>0</td>\n",
       "    </tr>\n",
       "  </tbody>\n",
       "</table>\n",
       "</div>"
      ],
      "text/plain": [
       "   person_home_ownership_1  person_home_ownership_2  person_home_ownership_3  \\\n",
       "0                        1                        0                        0   \n",
       "1                        0                        1                        0   \n",
       "2                        0                        0                        1   \n",
       "3                        0                        0                        1   \n",
       "4                        1                        0                        0   \n",
       "\n",
       "   person_home_ownership_4  loan_intent_1  loan_intent_2  loan_intent_3  \\\n",
       "0                        0              1              0              0   \n",
       "1                        0              0              1              0   \n",
       "2                        0              0              1              0   \n",
       "3                        0              0              1              0   \n",
       "4                        0              0              0              1   \n",
       "\n",
       "   loan_intent_4  loan_intent_5  loan_intent_6  loan_status  \\\n",
       "0              0              0              0            0   \n",
       "1              0              0              0            1   \n",
       "2              0              0              0            1   \n",
       "3              0              0              0            1   \n",
       "4              0              0              0            1   \n",
       "\n",
       "   cb_person_cred_hist_length  person_age  person_income  person_emp_length  \\\n",
       "0                           2   -1.072125      -1.784326           0.074722   \n",
       "1                           3   -0.421657      -1.784326          -0.935828   \n",
       "2                           2   -0.746891       0.246964          -0.177916   \n",
       "3                           4   -0.584274      -0.156387           0.832634   \n",
       "4                           2   -1.072125      -1.773425          -0.683191   \n",
       "\n",
       "   loan_amnt  loan_int_rate  loan_percent_income  default_history  \n",
       "0  -1.373019       0.044531            -0.694323                0  \n",
       "1  -0.627550       0.579077             3.697255                0  \n",
       "2   4.259412       1.308284             3.323504                0  \n",
       "3   4.259412       1.011657             3.510379                1  \n",
       "4  -1.124529      -1.191414             0.707245                0  "
      ]
     },
     "execution_count": 33,
     "metadata": {},
     "output_type": "execute_result"
    }
   ],
   "source": [
    "encoder = ce.OneHotEncoder(cols=df_final[['person_home_ownership','loan_intent']])\n",
    "df_final = encoder.fit_transform(df_final)\n",
    "df_final.head()"
   ]
  },
  {
   "cell_type": "code",
   "execution_count": 34,
   "id": "0ad98908",
   "metadata": {},
   "outputs": [],
   "source": [
    "X = df_final.drop('loan_status',axis=1)\n",
    "y = df_final['loan_status']"
   ]
  },
  {
   "cell_type": "markdown",
   "id": "ba798b0f",
   "metadata": {},
   "source": [
    "## Aplicando redimensionamento\n",
    "Apesar de não ser utilizado, pois foram realizados testes e os resultados foram inferiores."
   ]
  },
  {
   "cell_type": "code",
   "execution_count": 35,
   "id": "b40677d8",
   "metadata": {},
   "outputs": [],
   "source": [
    "# pca = PCA(n_components = 8)\n",
    "# df_pca = pca.fit_transform(X)\n",
    "# print(pca.explained_variance_ratio_.sum())\n",
    "\n",
    "# kpca = KernelPCA(n_components=6, kernel = 'rbf')\n",
    "# df_kpca = kpca.fit_transform(X)\n",
    "# print(kpca.explained_variance_ratio_.sum())"
   ]
  },
  {
   "cell_type": "markdown",
   "id": "4151f664",
   "metadata": {},
   "source": [
    "## Localizando os melhores parametros para os modelos.\n",
    "### Como meu computador é fraco, serão feitos testes com poucos parâmetros"
   ]
  },
  {
   "cell_type": "markdown",
   "id": "ace05da7",
   "metadata": {},
   "source": [
    "### DecisionTree"
   ]
  },
  {
   "cell_type": "code",
   "execution_count": 36,
   "id": "b3b7a2ff",
   "metadata": {},
   "outputs": [],
   "source": [
    "params_tree = {\n",
    "    'criterion': ['gini','entropy'],\n",
    "    'splitter': ['best','random'],\n",
    "    'min_samples_split': [2,5,10],\n",
    "    'min_samples_leaf': [1,5,10]\n",
    "}"
   ]
  },
  {
   "cell_type": "code",
   "execution_count": 37,
   "id": "f980eb3b",
   "metadata": {},
   "outputs": [
    {
     "name": "stdout",
     "output_type": "stream",
     "text": [
      "{'criterion': 'entropy', 'min_samples_leaf': 10, 'min_samples_split': 2, 'splitter': 'random'}\n",
      "0.8831937021974443\n"
     ]
    }
   ],
   "source": [
    "grid_search = GridSearchCV(estimator=DecisionTreeClassifier(), param_grid=params_tree, error_score='raise')\n",
    "grid_search.fit(X, y)\n",
    "best_params_tree = grid_search.best_params_\n",
    "best_score_tree = grid_search.best_score_\n",
    "print(best_params_tree)\n",
    "print(best_score_tree)"
   ]
  },
  {
   "cell_type": "code",
   "execution_count": 72,
   "id": "0bf613a9",
   "metadata": {},
   "outputs": [
    {
     "name": "stdout",
     "output_type": "stream",
     "text": [
      "              precision    recall  f1-score   support\n",
      "\n",
      "           0       0.90      0.94      0.92     24132\n",
      "           1       0.75      0.63      0.68      6962\n",
      "\n",
      "    accuracy                           0.87     31094\n",
      "   macro avg       0.82      0.78      0.80     31094\n",
      "weighted avg       0.86      0.87      0.86     31094\n",
      "\n"
     ]
    },
    {
     "data": {
      "image/png": "[encoded data removed]",
      "text/plain": [
       "<Figure size 600x400 with 2 Axes>"
      ]
     },
     "metadata": {},
     "output_type": "display_data"
    }
   ],
   "source": [
    "y_pred = cross_val_predict(DecisionTreeClassifier(criterion = 'gini', min_samples_leaf = 10, min_samples_split = 2, splitter = 'random'), X, y, cv=10)\n",
    "cm = confusion_matrix(y, y_pred)\n",
    "cr = classification_report(y, y_pred)\n",
    "plt.figure(figsize = (6,4))\n",
    "sns.heatmap(cm, annot=True, cmap='Blues')\n",
    "print(cr)"
   ]
  },
  {
   "cell_type": "markdown",
   "id": "b13846cb",
   "metadata": {},
   "source": [
    "### RandomForest"
   ]
  },
  {
   "cell_type": "code",
   "execution_count": 39,
   "id": "705df913",
   "metadata": {},
   "outputs": [],
   "source": [
    "params_random = {\n",
    "    'criterion': ['gini','entropy'],\n",
    "    'n_estimators': [10,40,100,150],\n",
    "    'min_samples_split': [2,5,10],\n",
    "    'min_samples_leaf': [1,5,10]\n",
    "}"
   ]
  },
  {
   "cell_type": "code",
   "execution_count": 40,
   "id": "1004b196",
   "metadata": {},
   "outputs": [
    {
     "name": "stdout",
     "output_type": "stream",
     "text": [
      "{'criterion': 'entropy', 'min_samples_leaf': 10, 'min_samples_split': 2, 'n_estimators': 40}\n",
      "0.9095968574085651\n"
     ]
    }
   ],
   "source": [
    "grid_search = GridSearchCV(estimator=RandomForestClassifier(), param_grid=params_random, error_score='raise')\n",
    "grid_search.fit(X, y)\n",
    "best_params_random = grid_search.best_params_\n",
    "best_score_random = grid_search.best_score_\n",
    "print(best_params_random)\n",
    "print(best_score_random)"
   ]
  },
  {
   "cell_type": "code",
   "execution_count": 41,
   "id": "3a70e67f",
   "metadata": {},
   "outputs": [
    {
     "name": "stdout",
     "output_type": "stream",
     "text": [
      "              precision    recall  f1-score   support\n",
      "\n",
      "           0       0.91      0.98      0.94     24132\n",
      "           1       0.89      0.66      0.76      6962\n",
      "\n",
      "    accuracy                           0.91     31094\n",
      "   macro avg       0.90      0.82      0.85     31094\n",
      "weighted avg       0.90      0.91      0.90     31094\n",
      "\n"
     ]
    },
    {
     "data": {
      "image/png": "[encoded data removed]",
      "text/plain": [
       "<Figure size 600x400 with 2 Axes>"
      ]
     },
     "metadata": {},
     "output_type": "display_data"
    }
   ],
   "source": [
    "y_pred = cross_val_predict(RandomForestClassifier(criterion = 'gini', min_samples_leaf = 5, min_samples_split = 2, n_estimators = 150), X, y, cv=10)\n",
    "cm = confusion_matrix(y, y_pred)\n",
    "cr = classification_report(y, y_pred)\n",
    "plt.figure(figsize = (6,4))\n",
    "sns.heatmap(cm, annot=True, cmap='Blues')\n",
    "print(cr)"
   ]
  },
  {
   "cell_type": "markdown",
   "id": "eb5fa575",
   "metadata": {},
   "source": [
    "### LogisticRegression"
   ]
  },
  {
   "cell_type": "code",
   "execution_count": 42,
   "id": "e568d496",
   "metadata": {},
   "outputs": [],
   "source": [
    "params_logistic = {\n",
    "    'tol': [0.0001,0.00001,0.000001],\n",
    "    'C': [1.0, 1.5, 2.0],\n",
    "    'solver': ['lbfgs','sag','saga']\n",
    "}"
   ]
  },
  {
   "cell_type": "code",
   "execution_count": 43,
   "id": "6d36fc32",
   "metadata": {
    "scrolled": true
   },
   "outputs": [
    {
     "name": "stdout",
     "output_type": "stream",
     "text": [
      "{'C': 1.0, 'solver': 'lbfgs', 'tol': 0.0001}\n",
      "0.8387468475998624\n"
     ]
    }
   ],
   "source": [
    "grid_search = GridSearchCV(estimator=LogisticRegression(), param_grid=params_logistic)\n",
    "grid_search.fit(X, y)\n",
    "best_params_logistic = grid_search.best_params_\n",
    "best_score_logistic = grid_search.best_score_\n",
    "print(best_params_logistic)\n",
    "print(best_score_logistic)"
   ]
  },
  {
   "cell_type": "code",
   "execution_count": 44,
   "id": "e1ebade4",
   "metadata": {},
   "outputs": [
    {
     "name": "stdout",
     "output_type": "stream",
     "text": [
      "              precision    recall  f1-score   support\n",
      "\n",
      "           0       0.86      0.95      0.90     24132\n",
      "           1       0.72      0.46      0.56      6962\n",
      "\n",
      "    accuracy                           0.84     31094\n",
      "   macro avg       0.79      0.71      0.73     31094\n",
      "weighted avg       0.83      0.84      0.83     31094\n",
      "\n"
     ]
    },
    {
     "data": {
      "image/png": "[encoded data removed]",
      "text/plain": [
       "<Figure size 600x400 with 2 Axes>"
      ]
     },
     "metadata": {},
     "output_type": "display_data"
    }
   ],
   "source": [
    "y_pred = cross_val_predict(LogisticRegression(C = 1.5, solver = 'lbfgs', tol = 0.0001), X, y, cv=10)\n",
    "cm = confusion_matrix(y, y_pred)\n",
    "cr = classification_report(y, y_pred)\n",
    "plt.figure(figsize = (6,4))\n",
    "sns.heatmap(cm, annot=True, cmap='Blues')\n",
    "print(cr)"
   ]
  },
  {
   "cell_type": "markdown",
   "id": "3f674229",
   "metadata": {},
   "source": [
    "### KNN"
   ]
  },
  {
   "cell_type": "code",
   "execution_count": 45,
   "id": "699c2336",
   "metadata": {},
   "outputs": [],
   "source": [
    "params_knn = {\n",
    "    'n_neighbors': [3,5,10,20],\n",
    "    'p': [1,2]\n",
    "}"
   ]
  },
  {
   "cell_type": "code",
   "execution_count": 46,
   "id": "c5b3ff68",
   "metadata": {},
   "outputs": [
    {
     "name": "stdout",
     "output_type": "stream",
     "text": [
      "{'n_neighbors': 20, 'p': 1}\n",
      "0.8514180673871576\n"
     ]
    }
   ],
   "source": [
    "grid_search = GridSearchCV(estimator=KNeighborsClassifier(), param_grid=params_knn, error_score='raise')\n",
    "grid_search.fit(X, y)\n",
    "best_params_knn = grid_search.best_params_\n",
    "best_score_knn = grid_search.best_score_\n",
    "print(best_params_knn)\n",
    "print(best_score_knn)"
   ]
  },
  {
   "cell_type": "code",
   "execution_count": 47,
   "id": "c6a637a2",
   "metadata": {},
   "outputs": [
    {
     "name": "stdout",
     "output_type": "stream",
     "text": [
      "              precision    recall  f1-score   support\n",
      "\n",
      "           0       0.85      0.98      0.91     24132\n",
      "           1       0.86      0.38      0.52      6962\n",
      "\n",
      "    accuracy                           0.85     31094\n",
      "   macro avg       0.85      0.68      0.72     31094\n",
      "weighted avg       0.85      0.85      0.82     31094\n",
      "\n"
     ]
    },
    {
     "data": {
      "image/png": "[encoded data removed]",
      "text/plain": [
       "<Figure size 600x400 with 2 Axes>"
      ]
     },
     "metadata": {},
     "output_type": "display_data"
    }
   ],
   "source": [
    "y_pred = cross_val_predict(KNeighborsClassifier(n_neighbors = 20, p = 1), X, y, cv=10)\n",
    "cm = confusion_matrix(y, y_pred)\n",
    "cr = classification_report(y, y_pred)\n",
    "plt.figure(figsize = (6,4))\n",
    "sns.heatmap(cm, annot=True, cmap='Blues')\n",
    "print(cr)"
   ]
  },
  {
   "cell_type": "markdown",
   "id": "5f398adb",
   "metadata": {},
   "source": [
    "### SVM"
   ]
  },
  {
   "cell_type": "code",
   "execution_count": 48,
   "id": "69e170d1",
   "metadata": {},
   "outputs": [],
   "source": [
    "params_svm = {\n",
    "    'tol': [0.0001,0.00001,0.000001],\n",
    "    'C': [1.0, 1.5, 2.0],\n",
    "    'kernel': ['rbf','linear','poly','sigmoid']\n",
    "}"
   ]
  },
  {
   "cell_type": "code",
   "execution_count": 49,
   "id": "d14588f8",
   "metadata": {},
   "outputs": [
    {
     "name": "stdout",
     "output_type": "stream",
     "text": [
      "{'C': 2.0, 'kernel': 'poly', 'tol': 0.0001}\n",
      "0.8441489731170174\n"
     ]
    }
   ],
   "source": [
    "grid_search = GridSearchCV(estimator=SVC(), param_grid=params_svm, error_score='raise')\n",
    "grid_search.fit(X, y)\n",
    "best_params_svm = grid_search.best_params_\n",
    "best_score_svm = grid_search.best_score_\n",
    "print(best_params_svm)\n",
    "print(best_score_svm)"
   ]
  },
  {
   "cell_type": "code",
   "execution_count": 50,
   "id": "88b6997c",
   "metadata": {},
   "outputs": [
    {
     "name": "stdout",
     "output_type": "stream",
     "text": [
      "              precision    recall  f1-score   support\n",
      "\n",
      "           0       0.86      0.97      0.91     24132\n",
      "           1       0.80      0.47      0.59      6962\n",
      "\n",
      "    accuracy                           0.85     31094\n",
      "   macro avg       0.83      0.72      0.75     31094\n",
      "weighted avg       0.85      0.85      0.84     31094\n",
      "\n"
     ]
    },
    {
     "data": {
      "image/png": "[encoded data removed]",
      "text/plain": [
       "<Figure size 600x400 with 2 Axes>"
      ]
     },
     "metadata": {},
     "output_type": "display_data"
    }
   ],
   "source": [
    "y_pred = cross_val_predict(SVC(C = 1.5, kernel = 'rbf', tol = 0.000001), X, y, cv=10)\n",
    "cm = confusion_matrix(y, y_pred)\n",
    "cr = classification_report(y, y_pred)\n",
    "plt.figure(figsize = (6,4))\n",
    "sns.heatmap(cm, annot=True, cmap='Blues')\n",
    "print(cr)"
   ]
  },
  {
   "cell_type": "markdown",
   "id": "92f5e688",
   "metadata": {},
   "source": [
    "### Neural Network"
   ]
  },
  {
   "cell_type": "code",
   "execution_count": 51,
   "id": "9cf63061",
   "metadata": {},
   "outputs": [],
   "source": [
    "params_neural = {\n",
    "    'activation': ['relu'],\n",
    "    'solver': ['adam'],\n",
    "    'batch_size': [10,56],\n",
    "    'max_iter': [3000],\n",
    "    'tol': [0.000001],\n",
    "    'hidden_layer_sizes': [(5,5),(10,10)]\n",
    "}"
   ]
  },
  {
   "cell_type": "code",
   "execution_count": 52,
   "id": "d5ec83e0",
   "metadata": {
    "scrolled": true
   },
   "outputs": [
    {
     "name": "stdout",
     "output_type": "stream",
     "text": [
      "{'activation': 'relu', 'batch_size': 10, 'hidden_layer_sizes': (10, 10), 'max_iter': 3000, 'solver': 'adam', 'tol': 1e-06}\n",
      "0.8971827068305757\n"
     ]
    }
   ],
   "source": [
    "grid_search = GridSearchCV(estimator=MLPClassifier(), param_grid=params_neural, error_score='raise')\n",
    "grid_search.fit(X, y)\n",
    "best_params_neural = grid_search.best_params_\n",
    "best_score_neural = grid_search.best_score_\n",
    "print(best_params_neural)\n",
    "print(best_score_neural)"
   ]
  },
  {
   "cell_type": "code",
   "execution_count": 60,
   "id": "fa49ebca",
   "metadata": {},
   "outputs": [
    {
     "name": "stdout",
     "output_type": "stream",
     "text": [
      "              precision    recall  f1-score   support\n",
      "\n",
      "           0       0.90      0.97      0.93     24132\n",
      "           1       0.85      0.61      0.71      6962\n",
      "\n",
      "    accuracy                           0.89     31094\n",
      "   macro avg       0.87      0.79      0.82     31094\n",
      "weighted avg       0.89      0.89      0.88     31094\n",
      "\n"
     ]
    },
    {
     "data": {
      "image/png": "[encoded data removed]",
      "text/plain": [
       "<Figure size 600x400 with 2 Axes>"
      ]
     },
     "metadata": {},
     "output_type": "display_data"
    }
   ],
   "source": [
    "y_pred = cross_val_predict(MLPClassifier(activation = 'relu', batch_size = 56, hidden_layer_sizes = (5, 5), max_iter = 3000, solver = 'adam', tol = 0.000001), X, y, cv=10)\n",
    "cm = confusion_matrix(y, y_pred)\n",
    "cr = classification_report(y, y_pred)\n",
    "plt.figure(figsize = (6,4))\n",
    "sns.heatmap(cm, annot=True, cmap='Blues')\n",
    "print(cr)"
   ]
  },
  {
   "cell_type": "markdown",
   "id": "60f972b6",
   "metadata": {},
   "source": [
    "## Resultados dos modelos\n",
    "### - Decision Tree - 0.88\n",
    "### - Random Forest - 0.91\n",
    "### - Logistic Regression - 0.84\n",
    "### - KNN - 0.85\n",
    "### - SVM - 0.84\n",
    "### - Neural Network - 0.90"
   ]
  },
  {
   "cell_type": "markdown",
   "id": "b8ba4dde",
   "metadata": {},
   "source": [
    "## Realizando a validação cruzada."
   ]
  },
  {
   "cell_type": "code",
   "execution_count": 54,
   "id": "3b38769c",
   "metadata": {},
   "outputs": [],
   "source": [
    "tree_score = []\n",
    "random_score = []\n",
    "logistic_score = []\n",
    "knn_score = []\n",
    "svm_score = []\n",
    "neural_score = []\n",
    "\n",
    "for i in range(20):\n",
    "    kfold = KFold(n_splits = 10, shuffle = True, random_state = i)\n",
    "    \n",
    "    tree = DecisionTreeClassifier(criterion = 'gini', min_samples_leaf = 10, min_samples_split = 2, splitter = 'random')\n",
    "    scores = cross_val_score(tree, X, y, cv = kfold)\n",
    "    tree_score.append(scores.mean())\n",
    "    \n",
    "    random = RandomForestClassifier(criterion = 'gini', min_samples_leaf = 5, min_samples_split = 2, n_estimators = 150)\n",
    "    scores = cross_val_score(random, X, y, cv = kfold)\n",
    "    random_score.append(scores.mean())\n",
    "    \n",
    "    logistic = LogisticRegression(C = 1.5, solver = 'lbfgs', tol = 0.0001)\n",
    "    scores = cross_val_score(logistic, X, y, cv = kfold)\n",
    "    logistic_score.append(scores.mean())\n",
    "    \n",
    "    knn = KNeighborsClassifier(n_neighbors = 20, p = 1)\n",
    "    scores = cross_val_score(knn, X, y, cv = kfold)\n",
    "    knn_score.append(scores.mean())\n",
    "    \n",
    "    svm = SVC(C = 1.5, kernel = 'rbf', tol = 0.000001)\n",
    "    scores = cross_val_score(svm, X, y, cv = kfold)\n",
    "    svm_score.append(scores.mean())\n",
    "    \n",
    "    neural = MLPClassifier(activation = 'relu', batch_size = 56, hidden_layer_sizes = (5, 5), max_iter = 3000, solver = 'adam', tol = 0.000001)\n",
    "    scores = cross_val_score(neural, X, y, cv = kfold)\n",
    "    neural_score.append(scores.mean())"
   ]
  },
  {
   "cell_type": "code",
   "execution_count": 55,
   "id": "62f2c0a5",
   "metadata": {},
   "outputs": [],
   "source": [
    "results = pd.DataFrame({\n",
    "    'Tree': tree_score, 'Random': random_score, 'Logistic': logistic_score, 'KNN': knn_score, 'SVM': svm_score, 'Neural': neural_score\n",
    "})"
   ]
  },
  {
   "cell_type": "markdown",
   "id": "62eac506",
   "metadata": {},
   "source": [
    "### Análise estátisca dos resultados"
   ]
  },
  {
   "cell_type": "code",
   "execution_count": 57,
   "id": "0ed1b4cf",
   "metadata": {
    "scrolled": true
   },
   "outputs": [
    {
     "data": {
      "text/html": [
       "<div>\n",
       "<style scoped>\n",
       "    .dataframe tbody tr th:only-of-type {\n",
       "        vertical-align: middle;\n",
       "    }\n",
       "\n",
       "    .dataframe tbody tr th {\n",
       "        vertical-align: top;\n",
       "    }\n",
       "\n",
       "    .dataframe thead th {\n",
       "        text-align: right;\n",
       "    }\n",
       "</style>\n",
       "<table border=\"1\" class=\"dataframe\">\n",
       "  <thead>\n",
       "    <tr style=\"text-align: right;\">\n",
       "      <th></th>\n",
       "      <th>Tree</th>\n",
       "      <th>Random</th>\n",
       "      <th>Logistic</th>\n",
       "      <th>KNN</th>\n",
       "      <th>SVM</th>\n",
       "      <th>Neural</th>\n",
       "    </tr>\n",
       "  </thead>\n",
       "  <tbody>\n",
       "    <tr>\n",
       "      <th>count</th>\n",
       "      <td>20.000000</td>\n",
       "      <td>20.000000</td>\n",
       "      <td>20.000000</td>\n",
       "      <td>20.000000</td>\n",
       "      <td>20.000000</td>\n",
       "      <td>20.000000</td>\n",
       "    </tr>\n",
       "    <tr>\n",
       "      <th>mean</th>\n",
       "      <td>0.896517</td>\n",
       "      <td>0.916815</td>\n",
       "      <td>0.843487</td>\n",
       "      <td>0.868666</td>\n",
       "      <td>0.873964</td>\n",
       "      <td>0.894930</td>\n",
       "    </tr>\n",
       "    <tr>\n",
       "      <th>std</th>\n",
       "      <td>0.001771</td>\n",
       "      <td>0.000339</td>\n",
       "      <td>0.000270</td>\n",
       "      <td>0.000467</td>\n",
       "      <td>0.000401</td>\n",
       "      <td>0.001471</td>\n",
       "    </tr>\n",
       "    <tr>\n",
       "      <th>min</th>\n",
       "      <td>0.892519</td>\n",
       "      <td>0.916093</td>\n",
       "      <td>0.843089</td>\n",
       "      <td>0.867820</td>\n",
       "      <td>0.873255</td>\n",
       "      <td>0.891395</td>\n",
       "    </tr>\n",
       "    <tr>\n",
       "      <th>25%</th>\n",
       "      <td>0.895430</td>\n",
       "      <td>0.916656</td>\n",
       "      <td>0.843298</td>\n",
       "      <td>0.868463</td>\n",
       "      <td>0.873674</td>\n",
       "      <td>0.894031</td>\n",
       "    </tr>\n",
       "    <tr>\n",
       "      <th>50%</th>\n",
       "      <td>0.896523</td>\n",
       "      <td>0.916720</td>\n",
       "      <td>0.843538</td>\n",
       "      <td>0.868737</td>\n",
       "      <td>0.873947</td>\n",
       "      <td>0.894900</td>\n",
       "    </tr>\n",
       "    <tr>\n",
       "      <th>75%</th>\n",
       "      <td>0.897593</td>\n",
       "      <td>0.917042</td>\n",
       "      <td>0.843644</td>\n",
       "      <td>0.868866</td>\n",
       "      <td>0.874324</td>\n",
       "      <td>0.895937</td>\n",
       "    </tr>\n",
       "    <tr>\n",
       "      <th>max</th>\n",
       "      <td>0.899852</td>\n",
       "      <td>0.917379</td>\n",
       "      <td>0.844150</td>\n",
       "      <td>0.869911</td>\n",
       "      <td>0.874703</td>\n",
       "      <td>0.897601</td>\n",
       "    </tr>\n",
       "  </tbody>\n",
       "</table>\n",
       "</div>"
      ],
      "text/plain": [
       "            Tree     Random   Logistic        KNN        SVM     Neural\n",
       "count  20.000000  20.000000  20.000000  20.000000  20.000000  20.000000\n",
       "mean    0.896517   0.916815   0.843487   0.868666   0.873964   0.894930\n",
       "std     0.001771   0.000339   0.000270   0.000467   0.000401   0.001471\n",
       "min     0.892519   0.916093   0.843089   0.867820   0.873255   0.891395\n",
       "25%     0.895430   0.916656   0.843298   0.868463   0.873674   0.894031\n",
       "50%     0.896523   0.916720   0.843538   0.868737   0.873947   0.894900\n",
       "75%     0.897593   0.917042   0.843644   0.868866   0.874324   0.895937\n",
       "max     0.899852   0.917379   0.844150   0.869911   0.874703   0.897601"
      ]
     },
     "execution_count": 57,
     "metadata": {},
     "output_type": "execute_result"
    }
   ],
   "source": [
    "results.describe()"
   ]
  },
  {
   "cell_type": "markdown",
   "id": "efb3de49",
   "metadata": {},
   "source": [
    "#### Coeficiente de variação"
   ]
  },
  {
   "cell_type": "code",
   "execution_count": 58,
   "id": "38b501de",
   "metadata": {},
   "outputs": [
    {
     "data": {
      "text/plain": [
       "Tree        0.197529\n",
       "Random      0.037016\n",
       "Logistic    0.032060\n",
       "KNN         0.053745\n",
       "SVM         0.045828\n",
       "Neural      0.164360\n",
       "dtype: float64"
      ]
     },
     "execution_count": 58,
     "metadata": {},
     "output_type": "execute_result"
    }
   ],
   "source": [
    "(results.std() / results.mean()) * 100"
   ]
  },
  {
   "cell_type": "markdown",
   "id": "00f01351",
   "metadata": {},
   "source": [
    "### Conclusão sobre os modelos"
   ]
  },
  {
   "cell_type": "markdown",
   "id": "0aafcf12",
   "metadata": {},
   "source": [
    "O modelo de random forest foi o melhor não apenas pela acurácia, mas também pelas estatisticas após a validação cruzada, tendo em vista que a rede neural teve uma acurácia muito parecida, porém o coeficiente de variação é muito superior ao do random forest. Também podemos análisar pelo classification report que a precisão do modelo está, ou seja, ele está acertado bem os true positives e os true negatives. "
   ]
  }
 ],
 "metadata": {
  "kernelspec": {
   "display_name": "Python 3 (ipykernel)",
   "language": "python",
   "name": "python3"
  },
  "language_info": {
   "codemirror_mode": {
    "name": "ipython",
    "version": 3
   },
   "file_extension": ".py",
   "mimetype": "text/x-python",
   "name": "python",
   "nbconvert_exporter": "python",
   "pygments_lexer": "ipython3",
   "version": "3.10.9"
  }
 },
 "nbformat": 4,
 "nbformat_minor": 5
}
